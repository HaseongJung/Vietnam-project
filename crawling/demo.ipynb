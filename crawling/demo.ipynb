{
 "cells": [
  {
   "cell_type": "markdown",
   "metadata": {},
   "source": [
    "## Demo"
   ]
  },
  {
   "cell_type": "code",
   "execution_count": 1,
   "metadata": {},
   "outputs": [],
   "source": [
    "import time\n",
    "import random as rd\n",
    "import pandas as pd\n",
    "import numpy as np\n",
    "from tqdm import tqdm\n",
    "\n",
    "import requests # 페이지를 요청하는 기능 \n",
    "from bs4 import BeautifulSoup # 파이썬으로 HTML을 다루는 기능\n",
    "from selenium import webdriver\n",
    "from webdriver_manager.chrome import ChromeDriverManager\n",
    "# driver = webdriver.Chrome(ChromeDriverManager().install())\n",
    "\n",
    "from selenium.webdriver.common.by import By\n",
    "from selenium.webdriver.common.keys import Keys\n",
    "from selenium.webdriver.support.ui import WebDriverWait\n",
    "from selenium.webdriver.support import expected_conditions as EC\n",
    "from selenium.webdriver.chrome.options import Options\n",
    "\n",
    "user_agent = \"Mozilla/5.0 (Linux; Android 9; SM-G975F) AppleWebKit/537.36 (KHTML, like Gecko) Chrome/71.0.3578.83 Mobile Safari/537.36\"\n",
    "headers = {\n",
    "    \"User-Agent\": user_agent\n",
    "}"
   ]
  },
  {
   "cell_type": "code",
   "execution_count": 2,
   "metadata": {},
   "outputs": [],
   "source": [
    "def setRestaurantPages(url: str):\n",
    "    url = url   \n",
    "    response = requests.get(url, headers=headers)\n",
    "    response.raise_for_status()  # 200번대 코드가 아니면 코드가 멈춤\n",
    "    print(\"Response successful!\")\n",
    "    html = response.text\n",
    "    soup = BeautifulSoup(html, \"html.parser\")\n",
    "\n",
    "    restraurant_pages = []\n",
    "    total_restraurants = int(soup.find_all('span', class_=\"b\")[1].text)\n",
    "    main_pages = total_restraurants//30 if total_restraurants%30==0 else total_restraurants//30+1\n",
    "    for i in tqdm(range(main_pages-1), desc=\"Set restaurant pages\"):\n",
    "        if i > 0:\n",
    "            current_url = url[:48] + f'oa{i*30}' + url[47:]\n",
    "            # print(f'current_url: {current_url}')\n",
    "            response = requests.get(current_url, headers=headers)\n",
    "            response.raise_for_status()\n",
    "            html = response.text\n",
    "            soup = BeautifulSoup(html, \"html.parser\")\n",
    "\n",
    "        for restraurant_page in soup.find_all('div', class_=\"biGQs _P fiohW alXOW NwcxK GzNcM ytVPx UTQMg RnEEZ ngXxk\"):\n",
    "            restraurant_pages.append(\"https://www.tripadvisor.com/\" + restraurant_page.find('a')['href'])\n",
    "            # print(restraurant_page.find('a')['href'])\n",
    "        time.sleep\n",
    "        # print(f'Total restraurant pages: {len(restraurant_pages)}')\n",
    "        \n",
    "    print(f'Total restraurant pages: {len(restraurant_pages)}')\n",
    "    \n",
    "    return restraurant_pages"
   ]
  },
  {
   "cell_type": "code",
   "execution_count": 3,
   "metadata": {},
   "outputs": [],
   "source": [
    "def createDataset():\n",
    "    dataset = pd.DataFrame({\n",
    "        \"name\": [],\n",
    "        \"category\": [],\n",
    "        \"description\": [],\n",
    "        \"time\": [],\n",
    "        \"URL\": [],\n",
    "        \"priceLow\": [],\n",
    "        \"priceHigh\": [],\n",
    "        \"reviews\": [],\n",
    "        \"adress\": [],\n",
    "        \"rating\": []\n",
    "    })\n",
    "    \n",
    "    return dataset"
   ]
  },
  {
   "cell_type": "code",
   "execution_count": 9,
   "metadata": {},
   "outputs": [],
   "source": [
    "def setWebdriver():\n",
    "    options = Options()\n",
    "    options.add_argument('user-agent=' + user_agent)\n",
    "    options.add_argument('headless') #headless모드 브라우저가 뜨지 않고 실행됩니다.\n",
    "    # options.add_argument('--window-size= x, y') #실행되는 브라우저 크기를 지정할 수 있습니다.\n",
    "    # options.add_argument('--start-maximized') #브라우저가 최대화된 상태로 실행됩니다.\n",
    "    # options.add_argument('--start-fullscreen') #브라우저가 풀스크린 모드(F11)로 실행됩니다.\n",
    "    # options.add_argument('--blink-settings=imagesEnabled=false') #브라우저에서 이미지 로딩을 하지 않습니다.\n",
    "    options.add_argument('--mute-audio') #브라우저에 음소거 옵션을 적용합니다.\n",
    "    options.add_argument('incognito') #시크릿 모드의 브라우저가 실행됩니다.\n",
    "    driver = webdriver.Chrome(ChromeDriverManager().install(), options=options)\n",
    "\n",
    "    return driver"
   ]
  },
  {
   "cell_type": "code",
   "execution_count": 10,
   "metadata": {},
   "outputs": [],
   "source": [
    "def buildDataset(dataset, pages: list):\n",
    "    cnt = 0\n",
    "    for restaurant_page in tqdm(pages, desc=\"Restaurants\"):\n",
    "        response = requests.get(restaurant_page, headers=headers)\n",
    "        response.raise_for_status()\n",
    "        html = response.text\n",
    "        soup = BeautifulSoup(html, \"html.parser\")\n",
    "\n",
    "        # url\n",
    "        url = restaurant_page;    print(f'URL: {url}')\n",
    "        \n",
    "        # Using selenium\n",
    "        driver.get(url)\n",
    "\n",
    "        #  time\n",
    "        try:\n",
    "            WebDriverWait(driver, 10).until(\n",
    "                EC.presence_of_element_located((By.CLASS_NAME, 'NehmB')))\n",
    "            time.sleep(3)\n",
    "            element = driver.find_element(By.CLASS_NAME, 'NehmB')\n",
    "            element.click()\n",
    "\n",
    "            time_list = [] \n",
    "            WebDriverWait(driver, 10).until(\n",
    "                    EC.presence_of_element_located((By.CLASS_NAME, \"RiEuX.f\")))\n",
    "            time_elements = driver.find_elements(By.CLASS_NAME, \"RiEuX.f\")\n",
    "            for time_element in time_elements:\n",
    "                time_list.append(time_element.text.replace('\\n', ':'))\n",
    "        except:\n",
    "            time_list = np.NaN\n",
    "        print(f'Times: {time_list}')\n",
    "\n",
    "        # description\n",
    "        try:\n",
    "            WebDriverWait(driver, 10).until(\n",
    "                    EC.presence_of_element_located((By.LINK_TEXT, \"View all details\")))\n",
    "            element = driver.find_element(By.LINK_TEXT, \"View all details\")\n",
    "            element.click()\n",
    "            WebDriverWait(driver, 10).until(\n",
    "                    EC.presence_of_element_located((By.CSS_SELECTOR, \"#BODY_BLOCK_JQUERY_REFLOW > div.VZmgo.D.X0.X1.Za > div > div.TocEc._Z.S2.H2._f > div > div > div.kwVln > div > div:nth-child(1) > div > div.jmnaM\")))\n",
    "            element = driver.find_element(By.CSS_SELECTOR, \"#BODY_BLOCK_JQUERY_REFLOW > div.VZmgo.D.X0.X1.Za > div > div.TocEc._Z.S2.H2._f > div > div > div.kwVln > div > div:nth-child(1) > div > div.jmnaM\")\n",
    "            description = element.text\n",
    "        except:\n",
    "            description = np.NaN\n",
    "        print(f'Description: {description}\\n')\n",
    "\n",
    "        # name \n",
    "        try:\n",
    "            name = soup.find('h1', class_=\"HjBfq\").text;    print(f'Name: {name}')\n",
    "        except:\n",
    "            name = np.NaN\n",
    "\n",
    "        # category\n",
    "        category = ''\n",
    "        for x in soup.find('span', class_=\"DsyBj DxyfE\"):\n",
    "            if '$' not in x.text:\n",
    "                category += f'{x.text}, '\n",
    "        category = category[:-2]\n",
    "        print(f'Category: {category}')\n",
    "\n",
    "        # adress\n",
    "        adress = soup.find_all('a', class_=\"AYHFM\")[1].text;   print(f'Adress: {adress}')\n",
    "\n",
    "        # rating\n",
    "        try:\n",
    "            rating = soup.find('span', class_=\"ZDEqb\").text;    print(f'Rating: {rating}')\n",
    "        # rating = soup.select_one(\"#component_52 > div.hILIJ > div > div:nth-child(1) > div > div:nth-child(1) > div.QEQvp > span.ZDEqb\"); print(f'Rating: {rating}')\n",
    "        except:\n",
    "            rating = np.NaN\n",
    "\n",
    "        # price\n",
    "        try:\n",
    "            priceLow = soup.find('div', class_=\"SrqKb\").text.split(' - ')[0] \n",
    "            priceHigh = soup.find('div', class_=\"SrqKb\").text.split(' - ')[1]\n",
    "        except:\n",
    "            priceLow = np.NaN; priceHigh = np.NaN\n",
    "        print (f'PriceLow: {priceLow}, PriceHigh: {priceHigh}')\n",
    "\n",
    "        # reviews, only english reviews\n",
    "        total_reviews = int(soup.find_all('span', class_=\"count\")[0].text[1:-1].replace(',', ''));    print(f'Total_reviews: {total_reviews}')\n",
    "        review_pages = total_reviews//15 if total_reviews%15 == 0 else total_reviews//15 + 1;    print(f'Review pages: {review_pages}')\n",
    "        review_list = []\n",
    "        for i in tqdm(range(0, review_pages), desc='Review crwaling...'):\n",
    "            if i > 1:\n",
    "                url_list = url.split('-Reviews-')\n",
    "                current_url = url_list[0] + f'-Reviews-or{15*i}-' + url_list[1]\n",
    "                # print(f'current_url: {current_url}')\n",
    "                response = requests.get(current_url, headers=headers)\n",
    "                response.raise_for_status()\n",
    "                html = response.text\n",
    "                soup = BeautifulSoup(html, \"html.parser\") \n",
    "\n",
    "            reviews = soup.find_all('p', class_=\"partial_entry\");\n",
    "            for review in reviews:\n",
    "                review_list.append(review.text)\n",
    "            #     print(review.text)\n",
    "            # print(f'Reviews: {len(review_list)}')\n",
    "\n",
    "            time.sleep(rd.uniform(0.1, 0.5))\n",
    "        print(f'Reviews: {len(review_list)}')\n",
    "\n",
    "\n",
    "        \n",
    "        time.sleep(rd.uniform(0.5, 1.5))\n",
    "\n",
    "        dataset.loc[cnt] = [name, category, description, time_list, url, priceLow, priceHigh, review_list, adress, rating]\n",
    "        cnt += 1\n",
    "        \n",
    "        \n",
    "    return dataset "
   ]
  },
  {
   "cell_type": "code",
   "execution_count": 12,
   "metadata": {},
   "outputs": [
    {
     "name": "stdout",
     "output_type": "stream",
     "text": [
      "Response successful!\n"
     ]
    },
    {
     "name": "stderr",
     "output_type": "stream",
     "text": [
      "Set restaurant pages: 100%|██████████| 49/49 [00:47<00:00,  1.03it/s]\n"
     ]
    },
    {
     "name": "stdout",
     "output_type": "stream",
     "text": [
      "Total restraurant pages: 1811\n"
     ]
    },
    {
     "name": "stderr",
     "output_type": "stream",
     "text": [
      "C:\\Users\\user\\AppData\\Local\\Temp\\ipykernel_26272\\939712835.py:11: DeprecationWarning: executable_path has been deprecated, please pass in a Service object\n",
      "  driver = webdriver.Chrome(ChromeDriverManager().install(), options=options)\n",
      "Restaurants:   0%|          | 0/10 [00:00<?, ?it/s]"
     ]
    },
    {
     "name": "stdout",
     "output_type": "stream",
     "text": [
      "URL: https://www.tripadvisor.com//Restaurant_Review-g25231262-d24161498-Reviews-Co_Ba_Ph_Bo-Hai_Chau_Da_Nang.html\n",
      "Times: ['Sun:10:00 AM - 10:00 PM', 'Mon:10:00 AM - 10:00 PM', 'Tue:10:00 AM - 10:00 PM', 'Wed:10:00 AM - 10:00 PM', 'Thu:10:00 AM - 10:00 PM', 'Fri:10:00 AM - 10:00 PM', 'Sat:10:00 AM - 10:00 PM']\n",
      "Description: nan\n",
      "\n",
      "Name: Cô Ba Phở Bò\n",
      "Category: Seafood, Asian, Vietnamese\n",
      "Adress: 154 Bạch Đằng Hải Châu 1, Hai Chau, Da Nang 550000 Vietnam\n",
      "Rating: 5.0 \n",
      "PriceLow: nan, PriceHigh: nan\n",
      "Total_reviews: 44\n",
      "Review pages: 3\n"
     ]
    },
    {
     "name": "stderr",
     "output_type": "stream",
     "text": [
      "Review crwaling...: 100%|██████████| 3/3 [00:01<00:00,  1.68it/s]\n"
     ]
    },
    {
     "name": "stdout",
     "output_type": "stream",
     "text": [
      "Reviews: 44\n"
     ]
    },
    {
     "name": "stderr",
     "output_type": "stream",
     "text": [
      "Restaurants:  10%|█         | 1/10 [00:19<02:58, 19.78s/it]"
     ]
    },
    {
     "name": "stdout",
     "output_type": "stream",
     "text": [
      "URL: https://www.tripadvisor.com//Restaurant_Review-g298085-d24985405-Reviews-Cardi_Pizzeria_Bach_Dang-Da_Nang.html\n",
      "Times: ['Sun:12:00 AM - 11:59 PM', 'Mon:12:00 AM - 11:59 PM', 'Tue:12:00 AM - 11:59 PM', 'Wed:12:00 AM - 11:59 PM', 'Thu:12:00 AM - 11:59 PM', 'Fri:12:00 AM - 11:59 PM', 'Sat:12:00 AM - 11:59 PM']\n",
      "Description: Premium Steak & Pizza Certified Imported Steak, Fresh Italian Standard Pizza, Premium Wine Cellar Millionaire Han River view. We have a chain of 4 restaurants in Da Nang and Hoi An: 124 Bạch Đằng, Đà Nẵng 76 Đường 2/9, Đà Nẵng, 93 Võ Văn Kiệt, Đà Nẵng and 32 Thái Phiên, Hội An\n",
      "\n",
      "Name: Cardi Pizzeria Bach Dang\n",
      "Category: American, Steakhouse, Brew Pub\n",
      "Adress: 124 Bạch Đằng, Hải Châu, Đà Nẵng, Da Nang Vietnam\n",
      "Rating: 5.0 \n",
      "PriceLow: nan, PriceHigh: nan\n",
      "Total_reviews: 333\n",
      "Review pages: 23\n"
     ]
    },
    {
     "name": "stderr",
     "output_type": "stream",
     "text": [
      "Review crwaling...: 100%|██████████| 23/23 [00:32<00:00,  1.42s/it]\n"
     ]
    },
    {
     "name": "stdout",
     "output_type": "stream",
     "text": [
      "Reviews: 333\n"
     ]
    },
    {
     "name": "stderr",
     "output_type": "stream",
     "text": [
      "Restaurants:  20%|██        | 2/10 [00:58<04:08, 31.10s/it]"
     ]
    },
    {
     "name": "stdout",
     "output_type": "stream",
     "text": [
      "URL: https://www.tripadvisor.com//Restaurant_Review-g298085-d7000524-Reviews-Ca_Chuon_Co_Vietnamese_Seafood_Restaurant-Da_Nang.html\n",
      "Times: ['Sun:06:00 AM - 10:00 PM', 'Mon:06:00 AM - 10:00 PM', 'Tue:06:00 AM - 10:00 PM', 'Wed:06:00 AM - 10:00 PM', 'Thu:06:00 AM - 10:00 PM', 'Fri:06:00 AM - 10:00 PM', 'Sat:06:00 AM - 10:00 PM']\n",
      "Description: Ca Chuon Co, ('flying fish') a modern stylish venue to enjoy the freshest seafood catch of the day. Sit back, relax and bask in the balmy sea breezes of the South East Sea. The Ca Chuon Co restaurant will deliver to you the most authentic traditional Vietnamese Food and the best taste of our local flavor to your dish.\n",
      "\n",
      "Name: Ca Chuon Co Vietnamese - Seafood Restaurant.\n",
      "Category: Cafe, International, Asian\n",
      "Adress: 99 Vo Nguyen Giap Street Ngu Hanh Son District, Da Nang 550000 Vietnam\n",
      "Rating: 5.0 \n",
      "PriceLow: ₩12,953, PriceHigh: ₩38,860\n",
      "Total_reviews: 227\n",
      "Review pages: 16\n"
     ]
    },
    {
     "name": "stderr",
     "output_type": "stream",
     "text": [
      "Review crwaling...: 100%|██████████| 16/16 [00:23<00:00,  1.48s/it]\n"
     ]
    },
    {
     "name": "stdout",
     "output_type": "stream",
     "text": [
      "Reviews: 227\n"
     ]
    },
    {
     "name": "stderr",
     "output_type": "stream",
     "text": [
      "Restaurants:  30%|███       | 3/10 [01:28<03:34, 30.64s/it]"
     ]
    },
    {
     "name": "stdout",
     "output_type": "stream",
     "text": [
      "URL: https://www.tripadvisor.com//Restaurant_Review-g298085-d13236259-Reviews-Bistecca_Restaurant_Danang-Da_Nang.html\n",
      "Times: ['Sun:06:00 AM - 10:00 PM', 'Mon:06:00 AM - 10:00 PM', 'Tue:06:00 AM - 10:00 PM', 'Wed:06:00 AM - 10:00 PM', 'Thu:06:00 AM - 10:00 PM', 'Fri:06:00 AM - 10:00 PM', 'Sat:06:00 AM - 10:00 PM']\n",
      "Description: Bistecca – Italian restaurant offering the original home-made taste with a large selection of Italian and international wines, ensuring the right combination of flavours from plate to your glass. Moreover, we serve buffet breakfast with a wide range of food in a luxury ambiance, you can choose indoor or outdoor to enjoy breakfast\n",
      "\n",
      "Name: Bistecca Restaurant Danang\n",
      "Category: Italian, Southwestern, European\n",
      "Adress: 20 Dong Da 7F New Orient Hotel, Thuan Phuoc Ward, Hai Chau District, Da Nang 550000 Vietnam\n",
      "Rating: 5.0 \n",
      "PriceLow: ₩3,886, PriceHigh: ₩64,767\n",
      "Total_reviews: 77\n",
      "Review pages: 6\n"
     ]
    },
    {
     "name": "stderr",
     "output_type": "stream",
     "text": [
      "Review crwaling...: 100%|██████████| 6/6 [00:07<00:00,  1.21s/it]\n"
     ]
    },
    {
     "name": "stdout",
     "output_type": "stream",
     "text": [
      "Reviews: 77\n"
     ]
    },
    {
     "name": "stderr",
     "output_type": "stream",
     "text": [
      "Restaurants:  40%|████      | 4/10 [01:42<02:23, 23.97s/it]"
     ]
    },
    {
     "name": "stdout",
     "output_type": "stream",
     "text": [
      "URL: https://www.tripadvisor.com//Restaurant_Review-g298085-d24082246-Reviews-3_Big_Nu_ng_L_u-Da_Nang.html\n",
      "Times: ['Sun:11:00 AM - 11:00 PM', 'Mon:11:00 AM - 10:00 PM', 'Tue:11:00 AM - 10:00 PM', 'Wed:11:00 AM - 10:00 PM', 'Thu:11:00 AM - 10:00 PM', 'Fri:11:00 AM - 10:00 PM', 'Sat:11:00 AM - 10:00 PM']\n",
      "Description: 3 BiG - Nướng & Lẩu Nhà hàng BBQ - Thịt nướng - Korean Buffet - Buffet Tobokki & Pizza BBQ Restaurant - Grilled Beef - Korean Buffet - Tobokki Buffet\n",
      "\n",
      "Name: 3 Big - Nướng & Lẩu\n",
      "Category: Pizza, Barbecue, Korean\n",
      "Adress: 134 Phan Châu Trinh, Phước Ninh, Hải Châu, Đà Nẵng, Da Nang 550000 Vietnam\n",
      "Rating: 5.0 \n",
      "PriceLow: nan, PriceHigh: nan\n",
      "Total_reviews: 13\n",
      "Review pages: 1\n"
     ]
    },
    {
     "name": "stderr",
     "output_type": "stream",
     "text": [
      "Review crwaling...: 100%|██████████| 1/1 [00:00<00:00,  3.04it/s]\n"
     ]
    },
    {
     "name": "stdout",
     "output_type": "stream",
     "text": [
      "Reviews: 13\n"
     ]
    },
    {
     "name": "stderr",
     "output_type": "stream",
     "text": [
      "Restaurants:  50%|█████     | 5/10 [01:50<01:30, 18.02s/it]"
     ]
    },
    {
     "name": "stdout",
     "output_type": "stream",
     "text": [
      "URL: https://www.tripadvisor.com//Restaurant_Review-g15296807-d13810289-Reviews-Thia_G_Restaurant_Da_Nang-My_An_Da_Nang.html\n",
      "Times: ['Sun:10:00 AM - 10:00 PM', 'Mon:10:00 AM - 10:00 PM', 'Tue:10:00 AM - 10:00 PM', 'Wed:10:00 AM - 10:00 PM', 'Thu:10:00 AM - 10:00 PM', 'Fri:10:00 AM - 10:00 PM', 'Sat:10:00 AM - 10:00 PM']\n",
      "Description: nan\n",
      "\n",
      "Name: Thìa Gỗ Restaurant Da Nang\n",
      "Category: Vietnamese, Vegetarian Friendly\n",
      "Adress: 53 Phan Thuc Duyen, My An, Da Nang 50507 Vietnam\n",
      "Rating: 5.0 \n",
      "PriceLow: ₩2,124, PriceHigh: ₩26,554\n",
      "Total_reviews: 1840\n",
      "Review pages: 123\n"
     ]
    },
    {
     "name": "stderr",
     "output_type": "stream",
     "text": [
      "Review crwaling...: 100%|██████████| 123/123 [03:20<00:00,  1.63s/it]\n"
     ]
    },
    {
     "name": "stdout",
     "output_type": "stream",
     "text": [
      "Reviews: 1840\n"
     ]
    },
    {
     "name": "stderr",
     "output_type": "stream",
     "text": [
      "Restaurants:  60%|██████    | 6/10 [05:28<05:44, 86.03s/it]"
     ]
    },
    {
     "name": "stdout",
     "output_type": "stream",
     "text": [
      "URL: https://www.tripadvisor.com//Restaurant_Review-g298085-d11616043-Reviews-Six_On_Six_Cafe-Da_Nang.html\n",
      "Times: ['Sun:07:30 AM - 9:30 PM', 'Mon:07:30 AM - 9:30 PM', 'Tue:07:30 AM - 9:30 PM', 'Wed:07:30 AM - 9:30 PM', 'Thu:07:30 AM - 9:30 PM', 'Fri:07:30 AM - 9:30 PM', 'Sat:07:30 AM - 9:30 PM']\n",
      "Description: Hi! We're a small, funky specialty cafe on the east side of Danang, sourcing the finest Vietnamese beans (100% arabica) and single origins from boutique farms in Da Lat. We offer cold brew, pour over, Aeropress, and all your favorite espresso-based drinks done just right. We also serve our own takes on traditional Vietnamese coffee styles. And if you need something more substantial, we offer a wide array of hearty, healthy western fare—everything from blue cheese omelets to BLETs and salads. We're open everyday from 8:00am to 5:00pm. Come give us a try, you won’t be disappointed.\n",
      "\n",
      "Name: Six On Six Cafe\n",
      "Category: American, Cafe, Fusion\n",
      "Adress: 64 Bà Huyện Thanh Quan K14/11 Luu Quang Thuan, Da Nang 550000 Vietnam\n",
      "Rating: 4.5 \n",
      "PriceLow: ₩2,591, PriceHigh: ₩6,477\n",
      "Total_reviews: 214\n",
      "Review pages: 15\n"
     ]
    },
    {
     "name": "stderr",
     "output_type": "stream",
     "text": [
      "Review crwaling...: 100%|██████████| 15/15 [00:22<00:00,  1.51s/it]\n"
     ]
    },
    {
     "name": "stdout",
     "output_type": "stream",
     "text": [
      "Reviews: 214\n"
     ]
    },
    {
     "name": "stderr",
     "output_type": "stream",
     "text": [
      "Restaurants:  70%|███████   | 7/10 [05:58<03:23, 67.68s/it]"
     ]
    },
    {
     "name": "stdout",
     "output_type": "stream",
     "text": [
      "URL: https://www.tripadvisor.com//Restaurant_Review-g298085-d25073751-Reviews-La_Cabana_House_of_BBQ-Da_Nang.html\n",
      "Times: ['Sun:4:00 PM - 11:00 PM', 'Mon:4:00 PM - 11:00 PM', 'Tue:4:00 PM - 11:00 PM', 'Wed:4:00 PM - 11:00 PM', 'Thu:4:00 PM - 11:00 PM', 'Fri:4:00 PM - 11:00 PM', 'Sat:4:00 PM - 11:00 PM']\n",
      "Description: La Cabana is a Cozy Argentinian Steakhouse in Da Nang. Located right in front of Carp Jumping Dragon Gate by the Han River (near Dragon bridge), La Cabana has spacious space, comfortable seats, excellent air conditioner suitable for couple and group dining. Our sparkling balcony gives you an overall view of the Han river and Dragon bridge. La Cabana's signature includes perfect grilled Argentinian Steaks with a very reasonable price. Have yourself a memorable experience with soft music, excellent food, imported wine at La Cabana restaurant.\n",
      "\n",
      "Name: La Cabana - House of BBQ\n",
      "Category: Steakhouse, Grill, Diner\n",
      "Adress: 505 D. Tran Hung Dao An Hai Trung, Son Tra, Da Nang 55000 Vietnam\n",
      "Rating: 5.0 \n",
      "PriceLow: ₩9,067, PriceHigh: ₩38,860\n",
      "Total_reviews: 151\n",
      "Review pages: 11\n"
     ]
    },
    {
     "name": "stderr",
     "output_type": "stream",
     "text": [
      "Review crwaling...: 100%|██████████| 11/11 [00:14<00:00,  1.27s/it]\n"
     ]
    },
    {
     "name": "stdout",
     "output_type": "stream",
     "text": [
      "Reviews: 151\n"
     ]
    },
    {
     "name": "stderr",
     "output_type": "stream",
     "text": [
      "Restaurants:  80%|████████  | 8/10 [06:19<01:45, 52.95s/it]"
     ]
    },
    {
     "name": "stdout",
     "output_type": "stream",
     "text": [
      "URL: https://www.tripadvisor.com//Restaurant_Review-g298085-d3187207-Reviews-The_Golden_Dragon-Da_Nang.html\n",
      "Times: ['Sun:11:30 AM - 2:00 PM:5:30 PM - 9:30 PM', 'Mon:11:30 AM - 2:00 PM:5:30 PM - 9:30 PM', 'Tue:11:30 AM - 2:00 PM:5:30 PM - 9:30 PM', 'Wed:11:30 AM - 2:00 PM:5:30 PM - 9:30 PM', 'Thu:11:30 AM - 2:00 PM:5:30 PM - 9:30 PM', 'Fri:11:30 AM - 2:00 PM:5:30 PM - 9:30 PM', 'Sat:11:30 AM - 2:00 PM:5:30 PM - 9:30 PM']\n",
      "Description: Tease your taste bud with authentic Cantonese cuisine in this Chinese style restaurant daily for lunch & dinner (except Monday). DIM SUM A-LA-CARTE MENU: Soup, Steamed/ Fried Dim sum, Steamed Rice Roll, Congee, Fried rice, Noodles, Dessert, etc. CHINESE A-LA-CARTE MENU: Roasted Duck, Suckling pig, BBQ pork glaze with honey, abalone soup, etc. ALL-YOU-CAN-EAT DIM SUM. CHINESE SET MENUS for group from 4 people. The famous must-try CHINESE BUFFET is available on SUNDAY for lunch & dinner.\n",
      "\n",
      "Name: The Golden Dragon\n",
      "Category: Chinese, International, Asian\n",
      "Adress: 2nd Floor, Grand Mercure Danang Hotel, Lot A1, Green Island, Hoa Cuong Bac Ward, Hai Chau District, Da Nang 550000 Vietnam\n",
      "Rating: 5.0 \n",
      "PriceLow: nan, PriceHigh: nan\n",
      "Total_reviews: 115\n",
      "Review pages: 8\n"
     ]
    },
    {
     "name": "stderr",
     "output_type": "stream",
     "text": [
      "Review crwaling...: 100%|██████████| 8/8 [00:11<00:00,  1.42s/it]\n"
     ]
    },
    {
     "name": "stdout",
     "output_type": "stream",
     "text": [
      "Reviews: 115\n"
     ]
    },
    {
     "name": "stderr",
     "output_type": "stream",
     "text": [
      "Restaurants:  90%|█████████ | 9/10 [06:37<00:42, 42.08s/it]"
     ]
    },
    {
     "name": "stdout",
     "output_type": "stream",
     "text": [
      "URL: https://www.tripadvisor.com//Restaurant_Review-g298085-d25502987-Reviews-The_Gypsy_Rooftop_Kitchen_Bar-Da_Nang.html\n",
      "Times: ['Sun:5:00 PM - 12:00 AM', 'Mon:5:00 PM - 12:00 AM', 'Tue:5:00 PM - 12:00 AM', 'Wed:5:00 PM - 12:00 AM', 'Thu:5:00 PM - 12:00 AM', 'Fri:5:00 PM - 12:00 AM', 'Sat:5:00 PM - 12:00 AM']\n",
      "Description: THE GYPSY is perched on the rooftop of the stylish New Orient Hotel in Hai Chau district. The panoramic, wrap-around terraces offer 360-degree views of the stunning Da Nang skyline overlooking the city and the iconic river. The restaurant and lounge bar has been designed to the finest detail, wowing guests at every turn. THE GYPSY offers a modern dining experience, revisiting world-famous ingredients & recipes with a twist using different cooking techniques including a custom-made wood fire oven. Behind the Gypsy is a multicultural crew who brought their experiences from Cannes, Hong Kong, Shanghai to create an unforgettable dining experience for their guests.\n",
      "\n",
      "Name: The Gypsy Rooftop Kitchen & Bar\n",
      "Category: Bar, European\n",
      "Adress: 20 Dong Da 10th floor, New Orient Hotel, Da Nang 550000 Vietnam\n",
      "Rating: 5.0 \n",
      "PriceLow: ₩15,933, PriceHigh: ₩69,041\n",
      "Total_reviews: 132\n",
      "Review pages: 9\n"
     ]
    },
    {
     "name": "stderr",
     "output_type": "stream",
     "text": [
      "Review crwaling...: 100%|██████████| 9/9 [00:11<00:00,  1.29s/it]\n"
     ]
    },
    {
     "name": "stdout",
     "output_type": "stream",
     "text": [
      "Reviews: 132\n"
     ]
    },
    {
     "name": "stderr",
     "output_type": "stream",
     "text": [
      "Restaurants: 100%|██████████| 10/10 [06:56<00:00, 41.65s/it]"
     ]
    },
    {
     "name": "stdout",
     "output_type": "stream",
     "text": [
      "Dataset build complete!\n",
      "\n"
     ]
    },
    {
     "name": "stderr",
     "output_type": "stream",
     "text": [
      "\n"
     ]
    },
    {
     "data": {
      "text/html": [
       "<div>\n",
       "<style scoped>\n",
       "    .dataframe tbody tr th:only-of-type {\n",
       "        vertical-align: middle;\n",
       "    }\n",
       "\n",
       "    .dataframe tbody tr th {\n",
       "        vertical-align: top;\n",
       "    }\n",
       "\n",
       "    .dataframe thead th {\n",
       "        text-align: right;\n",
       "    }\n",
       "</style>\n",
       "<table border=\"1\" class=\"dataframe\">\n",
       "  <thead>\n",
       "    <tr style=\"text-align: right;\">\n",
       "      <th></th>\n",
       "      <th>name</th>\n",
       "      <th>category</th>\n",
       "      <th>description</th>\n",
       "      <th>time</th>\n",
       "      <th>URL</th>\n",
       "      <th>priceLow</th>\n",
       "      <th>priceHigh</th>\n",
       "      <th>reviews</th>\n",
       "      <th>adress</th>\n",
       "      <th>rating</th>\n",
       "    </tr>\n",
       "  </thead>\n",
       "  <tbody>\n",
       "    <tr>\n",
       "      <th>0</th>\n",
       "      <td>Cô Ba Phở Bò</td>\n",
       "      <td>Seafood, Asian, Vietnamese</td>\n",
       "      <td>NaN</td>\n",
       "      <td>[Sun:10:00 AM - 10:00 PM, Mon:10:00 AM - 10:00...</td>\n",
       "      <td>https://www.tripadvisor.com//Restaurant_Review...</td>\n",
       "      <td>NaN</td>\n",
       "      <td>NaN</td>\n",
       "      <td>[Nice view and environment! \\nFinally tasted t...</td>\n",
       "      <td>154 Bạch Đằng Hải Châu 1, Hai Chau, Da Nang 55...</td>\n",
       "      <td>5.0</td>\n",
       "    </tr>\n",
       "    <tr>\n",
       "      <th>1</th>\n",
       "      <td>Cardi Pizzeria Bach Dang</td>\n",
       "      <td>American, Steakhouse, Brew Pub</td>\n",
       "      <td>Premium Steak &amp; Pizza Certified Imported Steak...</td>\n",
       "      <td>[Sun:12:00 AM - 11:59 PM, Mon:12:00 AM - 11:59...</td>\n",
       "      <td>https://www.tripadvisor.com//Restaurant_Review...</td>\n",
       "      <td>NaN</td>\n",
       "      <td>NaN</td>\n",
       "      <td>[I came in for pizza because they look like th...</td>\n",
       "      <td>124 Bạch Đằng, Hải Châu, Đà Nẵng, Da Nang Vietnam</td>\n",
       "      <td>5.0</td>\n",
       "    </tr>\n",
       "    <tr>\n",
       "      <th>2</th>\n",
       "      <td>Ca Chuon Co Vietnamese - Seafood Restaurant.</td>\n",
       "      <td>Cafe, International, Asian</td>\n",
       "      <td>Ca Chuon Co, ('flying fish') a modern stylish ...</td>\n",
       "      <td>[Sun:06:00 AM - 10:00 PM, Mon:06:00 AM - 10:00...</td>\n",
       "      <td>https://www.tripadvisor.com//Restaurant_Review...</td>\n",
       "      <td>₩12,953</td>\n",
       "      <td>₩38,860</td>\n",
       "      <td>[I was looking for some decent seafoods restau...</td>\n",
       "      <td>99 Vo Nguyen Giap Street Ngu Hanh Son District...</td>\n",
       "      <td>5.0</td>\n",
       "    </tr>\n",
       "    <tr>\n",
       "      <th>3</th>\n",
       "      <td>Bistecca Restaurant Danang</td>\n",
       "      <td>Italian, Southwestern, European</td>\n",
       "      <td>Bistecca – Italian restaurant offering the ori...</td>\n",
       "      <td>[Sun:06:00 AM - 10:00 PM, Mon:06:00 AM - 10:00...</td>\n",
       "      <td>https://www.tripadvisor.com//Restaurant_Review...</td>\n",
       "      <td>₩3,886</td>\n",
       "      <td>₩64,767</td>\n",
       "      <td>[Beautiful dinner and great service! All meals...</td>\n",
       "      <td>20 Dong Da 7F New Orient Hotel, Thuan Phuoc Wa...</td>\n",
       "      <td>5.0</td>\n",
       "    </tr>\n",
       "    <tr>\n",
       "      <th>4</th>\n",
       "      <td>3 Big - Nướng &amp; Lẩu</td>\n",
       "      <td>Pizza, Barbecue, Korean</td>\n",
       "      <td>3 BiG - Nướng &amp; Lẩu Nhà hàng BBQ - Thịt nướng ...</td>\n",
       "      <td>[Sun:11:00 AM - 11:00 PM, Mon:11:00 AM - 10:00...</td>\n",
       "      <td>https://www.tripadvisor.com//Restaurant_Review...</td>\n",
       "      <td>NaN</td>\n",
       "      <td>NaN</td>\n",
       "      <td>[Great service. Good price and good food. The ...</td>\n",
       "      <td>134 Phan Châu Trinh, Phước Ninh, Hải Châu, Đà ...</td>\n",
       "      <td>5.0</td>\n",
       "    </tr>\n",
       "    <tr>\n",
       "      <th>5</th>\n",
       "      <td>Thìa Gỗ Restaurant Da Nang</td>\n",
       "      <td>Vietnamese, Vegetarian Friendly</td>\n",
       "      <td>NaN</td>\n",
       "      <td>[Sun:10:00 AM - 10:00 PM, Mon:10:00 AM - 10:00...</td>\n",
       "      <td>https://www.tripadvisor.com//Restaurant_Review...</td>\n",
       "      <td>₩2,124</td>\n",
       "      <td>₩26,554</td>\n",
       "      <td>[Quynh was our server and took great care of u...</td>\n",
       "      <td>53 Phan Thuc Duyen, My An, Da Nang 50507 Vietnam</td>\n",
       "      <td>5.0</td>\n",
       "    </tr>\n",
       "    <tr>\n",
       "      <th>6</th>\n",
       "      <td>Six On Six Cafe</td>\n",
       "      <td>American, Cafe, Fusion</td>\n",
       "      <td>Hi! We're a small, funky specialty cafe on the...</td>\n",
       "      <td>[Sun:07:30 AM - 9:30 PM, Mon:07:30 AM - 9:30 P...</td>\n",
       "      <td>https://www.tripadvisor.com//Restaurant_Review...</td>\n",
       "      <td>₩2,591</td>\n",
       "      <td>₩6,477</td>\n",
       "      <td>[My favorite western breakfast restaurant in a...</td>\n",
       "      <td>64 Bà Huyện Thanh Quan K14/11 Luu Quang Thuan,...</td>\n",
       "      <td>4.5</td>\n",
       "    </tr>\n",
       "    <tr>\n",
       "      <th>7</th>\n",
       "      <td>La Cabana - House of BBQ</td>\n",
       "      <td>Steakhouse, Grill, Diner</td>\n",
       "      <td>La Cabana is a Cozy Argentinian Steakhouse in ...</td>\n",
       "      <td>[Sun:4:00 PM - 11:00 PM, Mon:4:00 PM - 11:00 P...</td>\n",
       "      <td>https://www.tripadvisor.com//Restaurant_Review...</td>\n",
       "      <td>₩9,067</td>\n",
       "      <td>₩38,860</td>\n",
       "      <td>[Booked table after reading reviews and was no...</td>\n",
       "      <td>505 D. Tran Hung Dao An Hai Trung, Son Tra, Da...</td>\n",
       "      <td>5.0</td>\n",
       "    </tr>\n",
       "    <tr>\n",
       "      <th>8</th>\n",
       "      <td>The Golden Dragon</td>\n",
       "      <td>Chinese, International, Asian</td>\n",
       "      <td>Tease your taste bud with authentic Cantonese ...</td>\n",
       "      <td>[Sun:11:30 AM - 2:00 PM:5:30 PM - 9:30 PM, Mon...</td>\n",
       "      <td>https://www.tripadvisor.com//Restaurant_Review...</td>\n",
       "      <td>NaN</td>\n",
       "      <td>NaN</td>\n",
       "      <td>[Employee is inattentive. Very bad experiences...</td>\n",
       "      <td>2nd Floor, Grand Mercure Danang Hotel, Lot A1,...</td>\n",
       "      <td>5.0</td>\n",
       "    </tr>\n",
       "    <tr>\n",
       "      <th>9</th>\n",
       "      <td>The Gypsy Rooftop Kitchen &amp; Bar</td>\n",
       "      <td>Bar, European</td>\n",
       "      <td>THE GYPSY is perched on the rooftop of the sty...</td>\n",
       "      <td>[Sun:5:00 PM - 12:00 AM, Mon:5:00 PM - 12:00 A...</td>\n",
       "      <td>https://www.tripadvisor.com//Restaurant_Review...</td>\n",
       "      <td>₩15,933</td>\n",
       "      <td>₩69,041</td>\n",
       "      <td>[If you are looking for a great place for the ...</td>\n",
       "      <td>20 Dong Da 10th floor, New Orient Hotel, Da Na...</td>\n",
       "      <td>5.0</td>\n",
       "    </tr>\n",
       "  </tbody>\n",
       "</table>\n",
       "</div>"
      ],
      "text/plain": [
       "                                           name  \\\n",
       "0                                  Cô Ba Phở Bò   \n",
       "1                      Cardi Pizzeria Bach Dang   \n",
       "2  Ca Chuon Co Vietnamese - Seafood Restaurant.   \n",
       "3                    Bistecca Restaurant Danang   \n",
       "4                           3 Big - Nướng & Lẩu   \n",
       "5                    Thìa Gỗ Restaurant Da Nang   \n",
       "6                               Six On Six Cafe   \n",
       "7                      La Cabana - House of BBQ   \n",
       "8                             The Golden Dragon   \n",
       "9               The Gypsy Rooftop Kitchen & Bar   \n",
       "\n",
       "                          category  \\\n",
       "0       Seafood, Asian, Vietnamese   \n",
       "1   American, Steakhouse, Brew Pub   \n",
       "2       Cafe, International, Asian   \n",
       "3  Italian, Southwestern, European   \n",
       "4          Pizza, Barbecue, Korean   \n",
       "5  Vietnamese, Vegetarian Friendly   \n",
       "6           American, Cafe, Fusion   \n",
       "7         Steakhouse, Grill, Diner   \n",
       "8    Chinese, International, Asian   \n",
       "9                    Bar, European   \n",
       "\n",
       "                                         description  \\\n",
       "0                                                NaN   \n",
       "1  Premium Steak & Pizza Certified Imported Steak...   \n",
       "2  Ca Chuon Co, ('flying fish') a modern stylish ...   \n",
       "3  Bistecca – Italian restaurant offering the ori...   \n",
       "4  3 BiG - Nướng & Lẩu Nhà hàng BBQ - Thịt nướng ...   \n",
       "5                                                NaN   \n",
       "6  Hi! We're a small, funky specialty cafe on the...   \n",
       "7  La Cabana is a Cozy Argentinian Steakhouse in ...   \n",
       "8  Tease your taste bud with authentic Cantonese ...   \n",
       "9  THE GYPSY is perched on the rooftop of the sty...   \n",
       "\n",
       "                                                time  \\\n",
       "0  [Sun:10:00 AM - 10:00 PM, Mon:10:00 AM - 10:00...   \n",
       "1  [Sun:12:00 AM - 11:59 PM, Mon:12:00 AM - 11:59...   \n",
       "2  [Sun:06:00 AM - 10:00 PM, Mon:06:00 AM - 10:00...   \n",
       "3  [Sun:06:00 AM - 10:00 PM, Mon:06:00 AM - 10:00...   \n",
       "4  [Sun:11:00 AM - 11:00 PM, Mon:11:00 AM - 10:00...   \n",
       "5  [Sun:10:00 AM - 10:00 PM, Mon:10:00 AM - 10:00...   \n",
       "6  [Sun:07:30 AM - 9:30 PM, Mon:07:30 AM - 9:30 P...   \n",
       "7  [Sun:4:00 PM - 11:00 PM, Mon:4:00 PM - 11:00 P...   \n",
       "8  [Sun:11:30 AM - 2:00 PM:5:30 PM - 9:30 PM, Mon...   \n",
       "9  [Sun:5:00 PM - 12:00 AM, Mon:5:00 PM - 12:00 A...   \n",
       "\n",
       "                                                 URL priceLow priceHigh  \\\n",
       "0  https://www.tripadvisor.com//Restaurant_Review...      NaN       NaN   \n",
       "1  https://www.tripadvisor.com//Restaurant_Review...      NaN       NaN   \n",
       "2  https://www.tripadvisor.com//Restaurant_Review...  ₩12,953   ₩38,860   \n",
       "3  https://www.tripadvisor.com//Restaurant_Review...   ₩3,886   ₩64,767   \n",
       "4  https://www.tripadvisor.com//Restaurant_Review...      NaN       NaN   \n",
       "5  https://www.tripadvisor.com//Restaurant_Review...   ₩2,124   ₩26,554   \n",
       "6  https://www.tripadvisor.com//Restaurant_Review...   ₩2,591    ₩6,477   \n",
       "7  https://www.tripadvisor.com//Restaurant_Review...   ₩9,067   ₩38,860   \n",
       "8  https://www.tripadvisor.com//Restaurant_Review...      NaN       NaN   \n",
       "9  https://www.tripadvisor.com//Restaurant_Review...  ₩15,933   ₩69,041   \n",
       "\n",
       "                                             reviews  \\\n",
       "0  [Nice view and environment! \\nFinally tasted t...   \n",
       "1  [I came in for pizza because they look like th...   \n",
       "2  [I was looking for some decent seafoods restau...   \n",
       "3  [Beautiful dinner and great service! All meals...   \n",
       "4  [Great service. Good price and good food. The ...   \n",
       "5  [Quynh was our server and took great care of u...   \n",
       "6  [My favorite western breakfast restaurant in a...   \n",
       "7  [Booked table after reading reviews and was no...   \n",
       "8  [Employee is inattentive. Very bad experiences...   \n",
       "9  [If you are looking for a great place for the ...   \n",
       "\n",
       "                                              adress rating  \n",
       "0  154 Bạch Đằng Hải Châu 1, Hai Chau, Da Nang 55...   5.0   \n",
       "1  124 Bạch Đằng, Hải Châu, Đà Nẵng, Da Nang Vietnam   5.0   \n",
       "2  99 Vo Nguyen Giap Street Ngu Hanh Son District...   5.0   \n",
       "3  20 Dong Da 7F New Orient Hotel, Thuan Phuoc Wa...   5.0   \n",
       "4  134 Phan Châu Trinh, Phước Ninh, Hải Châu, Đà ...   5.0   \n",
       "5   53 Phan Thuc Duyen, My An, Da Nang 50507 Vietnam   5.0   \n",
       "6  64 Bà Huyện Thanh Quan K14/11 Luu Quang Thuan,...   4.5   \n",
       "7  505 D. Tran Hung Dao An Hai Trung, Son Tra, Da...   5.0   \n",
       "8  2nd Floor, Grand Mercure Danang Hotel, Lot A1,...   5.0   \n",
       "9  20 Dong Da 10th floor, New Orient Hotel, Da Na...   5.0   "
      ]
     },
     "execution_count": 12,
     "metadata": {},
     "output_type": "execute_result"
    }
   ],
   "source": [
    "url = \"https://www.tripadvisor.com/Restaurants-g298085-Da_Nang.html\"\n",
    "restraurant_pages = setRestaurantPages(url)\n",
    "\n",
    "# create dataset\n",
    "dataset = createDataset()\n",
    "\n",
    "# set webdriver\n",
    "driver = setWebdriver()\n",
    "\n",
    "# start crawling\n",
    "dataset = buildDataset(dataset, restraurant_pages[:10])\n",
    "\n",
    "# save dataset\n",
    "dataset.to_csv('test.csv')\n",
    "print(f'Dataset build complete!\\n')\n",
    "dataset"
   ]
  },
  {
   "cell_type": "markdown",
   "metadata": {},
   "source": [
    "---\n",
    "### Partial testing"
   ]
  },
  {
   "cell_type": "code",
   "execution_count": 16,
   "metadata": {},
   "outputs": [
    {
     "name": "stdout",
     "output_type": "stream",
     "text": [
      "Rating: 5.0 \n",
      "Rating: 5.0 \n"
     ]
    }
   ],
   "source": [
    "# rating\n",
    "\n",
    "url = \"https://www.tripadvisor.com//Restaurant_Review-g298085-d24082246-Reviews-3_Big_Nu_ng_L_u-Da_Nang.html\"\n",
    "response = requests.get(url, headers=headers)\n",
    "response.raise_for_status()\n",
    "html = response.text\n",
    "soup = BeautifulSoup(html, \"html.parser\")\n",
    "with open(\"output1.html\", \"w\") as file:\n",
    "    file.write(str(soup))   \n",
    "\n",
    "# rating\n",
    "rating = soup.find('span', class_=\"ZDEqb\").text;    print(f'Rating: {rating}')\n",
    "# rating = soup.select_one(\"#component_52 > div.hILIJ > div > div:nth-child(1) > div > div:nth-child(1) > div.QEQvp > span.ZDEqb\"); \n",
    "# rating = soup.find('div', class_=\"QEQvp\").text\n",
    "print(f'Rating: {rating}')"
   ]
  },
  {
   "cell_type": "code",
   "execution_count": 11,
   "metadata": {},
   "outputs": [
    {
     "name": "stdout",
     "output_type": "stream",
     "text": [
      "Total_reviews: 13\n",
      "Review pages: 1\n"
     ]
    },
    {
     "name": "stderr",
     "output_type": "stream",
     "text": [
      "Review crwaling...: 100%|██████████| 1/1 [00:00<00:00,  2.37it/s]"
     ]
    },
    {
     "name": "stdout",
     "output_type": "stream",
     "text": [
      "Reviews: 13\n"
     ]
    },
    {
     "name": "stderr",
     "output_type": "stream",
     "text": [
      "\n"
     ]
    }
   ],
   "source": [
    "# reviews, only english reviews\n",
    "\n",
    "url = \"https://www.tripadvisor.com//Restaurant_Review-g298085-d24082246-Reviews-3_Big_Nu_ng_L_u-Da_Nang.html\"\n",
    "response = requests.get(url, headers=headers)\n",
    "response.raise_for_status()\n",
    "html = response.text\n",
    "soup = BeautifulSoup(html, \"html.parser\")\n",
    "\n",
    "total_reviews = int(soup.find_all('span', class_=\"count\")[0].text[1:-1].replace(',', ''));    print(f'Total_reviews: {total_reviews}')\n",
    "review_pages = total_reviews//15 if total_reviews%15 == 0 else total_reviews//15 + 1;    print(f'Review pages: {review_pages}')\n",
    "review_list = []\n",
    "for i in tqdm(range(0, review_pages), desc='Review crwaling...'):\n",
    "    if i > 1:\n",
    "        url_list = url.split('-Reviews-')\n",
    "        current_url = url_list[0] + f'-Reviews-or{15*i}-' + url_list[1]\n",
    "        # print(f'current_url: {current_url}')\n",
    "        response = requests.get(current_url, headers=headers)\n",
    "        response.raise_for_status()\n",
    "        html = response.text\n",
    "        soup = BeautifulSoup(html, \"html.parser\") \n",
    "\n",
    "    reviews = soup.find_all('p', class_=\"partial_entry\");\n",
    "    for review in reviews:\n",
    "        review_list.append(review.text)\n",
    "    #     print(review.text)\n",
    "    # print(f'Reviews: {len(review_list)}')\n",
    "\n",
    "    time.sleep(rd.uniform(0.1, 0.5))\n",
    "print(f'Reviews: {len(review_list)}')"
   ]
  },
  {
   "cell_type": "code",
   "execution_count": 13,
   "metadata": {},
   "outputs": [
    {
     "name": "stderr",
     "output_type": "stream",
     "text": [
      "C:\\Users\\user\\AppData\\Local\\Temp\\ipykernel_20692\\4230172117.py:11: DeprecationWarning: executable_path has been deprecated, please pass in a Service object\n",
      "  driver = webdriver.Chrome(ChromeDriverManager().install(), options=options)\n"
     ]
    },
    {
     "name": "stdout",
     "output_type": "stream",
     "text": [
      "<selenium.webdriver.remote.webelement.WebElement (session=\"256f007f9ab2cad63c076291897ee137\", element=\"67F080C407A4187949C41A7E8080B652_element_75\")>\n",
      "<selenium.webdriver.remote.webelement.WebElement (session=\"256f007f9ab2cad63c076291897ee137\", element=\"67F080C407A4187949C41A7E8080B652_element_76\")>\n",
      "<selenium.webdriver.remote.webelement.WebElement (session=\"256f007f9ab2cad63c076291897ee137\", element=\"67F080C407A4187949C41A7E8080B652_element_77\")>\n",
      "<selenium.webdriver.remote.webelement.WebElement (session=\"256f007f9ab2cad63c076291897ee137\", element=\"67F080C407A4187949C41A7E8080B652_element_78\")>\n",
      "<selenium.webdriver.remote.webelement.WebElement (session=\"256f007f9ab2cad63c076291897ee137\", element=\"67F080C407A4187949C41A7E8080B652_element_79\")>\n",
      "<selenium.webdriver.remote.webelement.WebElement (session=\"256f007f9ab2cad63c076291897ee137\", element=\"67F080C407A4187949C41A7E8080B652_element_80\")>\n",
      "<selenium.webdriver.remote.webelement.WebElement (session=\"256f007f9ab2cad63c076291897ee137\", element=\"67F080C407A4187949C41A7E8080B652_element_81\")>\n",
      "['Sun:10:00 AM - 10:00 PM', 'Mon:10:00 AM - 10:00 PM', 'Tue:10:00 AM - 10:00 PM', 'Wed:10:00 AM - 10:00 PM', 'Thu:10:00 AM - 10:00 PM', 'Fri:10:00 AM - 10:00 PM', 'Sat:10:00 AM - 10:00 PM']\n"
     ]
    }
   ],
   "source": [
    "# time test\n",
    "\n",
    "driver = setWebdriver()\n",
    "url = \"https://www.tripadvisor.com/Restaurant_Review-g15296807-d13810289-Reviews-Thia_G_Restaurant_Da_Nang-My_An_Da_Nang.html\"\n",
    "response = driver.get(url)\n",
    "\n",
    "try:\n",
    "    WebDriverWait(driver, 5).until(\n",
    "            EC.presence_of_element_located((By.CSS_SELECTOR, \"#component_50 > div > div:nth-child(3) > span.DsyBj.YTODE > div > span.mMkhr\")))\n",
    "    element = driver.find_element(By.CSS_SELECTOR, \"#component_50 > div > div:nth-child(3) > span.DsyBj.YTODE > div > span.mMkhr\")\n",
    "    time.sleep(1)\n",
    "    element.click() \n",
    "except:\n",
    "    times = np.NaN\n",
    "\n",
    "time_list = [] \n",
    "time_elements = driver.find_elements(By.CLASS_NAME, \"RiEuX.f\")\n",
    "for time_element in time_elements:\n",
    "    time_list.append(time_element.text.replace('\\n', ':'))\n",
    "    print(time_element)\n",
    "print(time_list)"
   ]
  }
 ],
 "metadata": {
  "kernelspec": {
   "display_name": "Python 3",
   "language": "python",
   "name": "python3"
  },
  "language_info": {
   "codemirror_mode": {
    "name": "ipython",
    "version": 3
   },
   "file_extension": ".py",
   "mimetype": "text/x-python",
   "name": "python",
   "nbconvert_exporter": "python",
   "pygments_lexer": "ipython3",
   "version": "3.9.13"
  }
 },
 "nbformat": 4,
 "nbformat_minor": 2
}
