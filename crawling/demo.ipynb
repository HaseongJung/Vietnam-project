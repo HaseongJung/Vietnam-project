{
 "cells": [
  {
   "cell_type": "markdown",
   "metadata": {},
   "source": [
    "## Demo"
   ]
  },
  {
   "cell_type": "code",
   "execution_count": 16,
   "metadata": {},
   "outputs": [],
   "source": [
    "import time\n",
    "import random as rd\n",
    "import pandas as pd\n",
    "import numpy as np\n",
    "from tqdm import tqdm\n",
    "\n",
    "import requests # 페이지를 요청하는 기능 \n",
    "from bs4 import BeautifulSoup # 파이썬으로 HTML을 다루는 기능\n",
    "from selenium import webdriver\n",
    "from webdriver_manager.chrome import ChromeDriverManager\n",
    "# driver = webdriver.Chrome(ChromeDriverManager().install())\n",
    "\n",
    "from selenium.webdriver.common.by import By\n",
    "from selenium.webdriver.common.keys import Keys\n",
    "from selenium.webdriver.support.ui import WebDriverWait\n",
    "from selenium.webdriver.support import expected_conditions as EC\n",
    "from selenium.webdriver.chrome.options import Options\n",
    "\n",
    "user_agent = \"Mozilla/5.0 (Linux; Android 9; SM-G975F) AppleWebKit/537.36 (KHTML, like Gecko) Chrome/71.0.3578.83 Mobile Safari/537.36\"\n",
    "headers = {\n",
    "    \"User-Agent\": user_agent\n",
    "}"
   ]
  },
  {
   "cell_type": "code",
   "execution_count": 46,
   "metadata": {},
   "outputs": [],
   "source": [
    "def setWebdriver():\n",
    "    options = Options()\n",
    "    options.add_argument('user-agent=' + user_agent)\n",
    "    options.add_argument('--start-maximized') #브라우저가 최대화된 상태로 실행됩니다.\n",
    "    # options.add_argument('headless') #headless모드 브라우저가 뜨지 않고 실행됩니다.\n",
    "    # options.add_argument('--window-size= x, y') #실행되는 브라우저 크기를 지정할 수 있습니다.\n",
    "    # options.add_argument('--start-fullscreen') #브라우저가 풀스크린 모드(F11)로 실행됩니다.\n",
    "    # options.add_argument('--blink-settings=imagesEnabled=false') #브라우저에서 이미지 로딩을 하지 않습니다.\n",
    "    options.add_argument('--mute-audio') #브라우저에 음소거 옵션을 적용합니다.\n",
    "    options.add_argument('incognito') #시크릿 모드의 브라우저가 실행됩니다.\n",
    "    driver = webdriver.Chrome(ChromeDriverManager().install(), options=options)\n",
    "\n",
    "    return driver"
   ]
  },
  {
   "cell_type": "code",
   "execution_count": 18,
   "metadata": {},
   "outputs": [],
   "source": [
    "def createDataset():\n",
    "    dataset = pd.DataFrame({\n",
    "        \"name\": [],\n",
    "        \"category\": [],\n",
    "        \"description\": [],\n",
    "        \"time\": [],\n",
    "        \"URL\": [],\n",
    "        \"priceLow\": [],\n",
    "        \"priceHigh\": [],\n",
    "        \"reviews\": [],\n",
    "        \"adress\": [],\n",
    "        \"rating\": [],\n",
    "        \"TEL\": [],\n",
    "        \"images\": []\n",
    "    })\n",
    "    \n",
    "    return dataset"
   ]
  },
  {
   "cell_type": "code",
   "execution_count": 17,
   "metadata": {},
   "outputs": [],
   "source": [
    "def setRestaurantPages(url: str):\n",
    "    url = url   \n",
    "    response = requests.get(url, headers=headers)\n",
    "    response.raise_for_status()  # 200번대 코드가 아니면 코드가 멈춤\n",
    "    print(\"Response successful!\")\n",
    "    html = response.text\n",
    "    soup = BeautifulSoup(html, \"html.parser\")\n",
    "\n",
    "    restraurant_pages = []\n",
    "    total_restraurants = int(soup.find_all('span', class_=\"b\")[1].text)\n",
    "    main_pages = total_restraurants//30 if total_restraurants%30==0 else total_restraurants//30+1\n",
    "    for i in tqdm(range(main_pages-1), desc=\"Set restaurant pages\"):\n",
    "        if i > 0:\n",
    "            current_url = url[:48] + f'oa{i*30}' + url[47:]\n",
    "            # print(f'current_url: {current_url}')\n",
    "            response = requests.get(current_url, headers=headers)\n",
    "            response.raise_for_status()\n",
    "            html = response.text\n",
    "            soup = BeautifulSoup(html, \"html.parser\")\n",
    "\n",
    "        for restraurant_page in soup.find_all('div', class_=\"biGQs _P fiohW alXOW NwcxK GzNcM ytVPx UTQMg RnEEZ ngXxk\"):\n",
    "            restraurant_pages.append(\"https://www.tripadvisor.com/\" + restraurant_page.find('a')['href'])\n",
    "            # print(restraurant_page.find('a')['href'])\n",
    "        time.sleep\n",
    "        # print(f'Total restraurant pages: {len(restraurant_pages)}')\n",
    "        \n",
    "    print(f'Total restraurant pages: {len(restraurant_pages)}')\n",
    "    \n",
    "    return restraurant_pages"
   ]
  },
  {
   "cell_type": "code",
   "execution_count": 47,
   "metadata": {},
   "outputs": [],
   "source": [
    "def getTime(driver):\n",
    "    try:\n",
    "        WebDriverWait(driver, 10).until(\n",
    "            EC.presence_of_element_located((By.CLASS_NAME, 'NehmB')))\n",
    "        time.sleep(3)\n",
    "        element = driver.find_element(By.CLASS_NAME, 'NehmB')\n",
    "        element.click()\n",
    "\n",
    "        time_list = [] \n",
    "        WebDriverWait(driver, 10).until(\n",
    "                EC.presence_of_element_located((By.CLASS_NAME, \"RiEuX.f\")))\n",
    "        time_elements = driver.find_elements(By.CLASS_NAME, \"RiEuX.f\")\n",
    "        for time_element in time_elements:\n",
    "            time_list.append(time_element.text.replace('\\n', ':'))\n",
    "    except:\n",
    "        time_list = None\n",
    "\n",
    "    return time_list"
   ]
  },
  {
   "cell_type": "code",
   "execution_count": 48,
   "metadata": {},
   "outputs": [],
   "source": [
    "def getDescription(driver):\n",
    "    try:\n",
    "        WebDriverWait(driver, 3).until(\n",
    "                EC.presence_of_element_located((By.LINK_TEXT, \"View all details\")))\n",
    "        element = driver.find_element(By.LINK_TEXT, \"View all details\")\n",
    "        element.click()\n",
    "        WebDriverWait(driver, 3).until(\n",
    "                EC.presence_of_element_located((By.CSS_SELECTOR, \"#BODY_BLOCK_JQUERY_REFLOW > div.VZmgo.D.X0.X1.Za > div > div.TocEc._Z.S2.H2._f > div > div > div.kwVln > div > div:nth-child(1) > div > div.jmnaM\")))\n",
    "        element = driver.find_element(By.CSS_SELECTOR, \"#BODY_BLOCK_JQUERY_REFLOW > div.VZmgo.D.X0.X1.Za > div > div.TocEc._Z.S2.H2._f > div > div > div.kwVln > div > div:nth-child(1) > div > div.jmnaM\")\n",
    "        description = element.text\n",
    "        webdriver.ActionChains(driver).send_keys(Keys.ESCAPE).perform()\n",
    "    except:\n",
    "        webdriver.ActionChains(driver).send_keys(Keys.ESCAPE).perform()\n",
    "        description = None\n",
    "\n",
    "    return description"
   ]
  },
  {
   "cell_type": "code",
   "execution_count": 49,
   "metadata": {},
   "outputs": [],
   "source": [
    "def getImages(driver):\n",
    "    images = []\n",
    "    try:\n",
    "        time.sleep(2)\n",
    "        WebDriverWait(driver, 10).until(\n",
    "                EC.presence_of_element_located((By.CSS_SELECTOR, \"#taplc_resp_rr_photo_mosaic_0 > div > div.photos_and_contact_links_container.ui_column.is-12 > div.photo_mosaic_and_all_photos_banner > div.mosaic_photos > div:nth-child(2) > div.see_all_count_wrap > span > span.details\")))\n",
    "        element = driver.find_element(By.CSS_SELECTOR, \"#taplc_resp_rr_photo_mosaic_0 > div > div.photos_and_contact_links_container.ui_column.is-12 > div.photo_mosaic_and_all_photos_banner > div.mosaic_photos > div:nth-child(2) > div.see_all_count_wrap > span > span.details\")\n",
    "        element.click()\n",
    "        WebDriverWait(driver, 10).until(\n",
    "                EC.presence_of_element_located((By.CLASS_NAME, \"fillSquare\")))\n",
    "        elements = driver.find_elements(By.CLASS_NAME, \"fillSquare\")\n",
    "        # print(elements)\n",
    "        for element in elements:\n",
    "            # print(element.find_element(By.TAG_NAME, \"img\"))\n",
    "            img_element = element.find_element(By.TAG_NAME, \"img\")\n",
    "            img_src = img_element.get_attribute(\"src\")\n",
    "            if img_src != None:\n",
    "                images.append(img_src)\n",
    "    except:\n",
    "        images = None\n",
    "\n",
    "    return images"
   ]
  },
  {
   "cell_type": "code",
   "execution_count": 50,
   "metadata": {},
   "outputs": [],
   "source": [
    "def getCategory(soup):\n",
    "    try:\n",
    "        category = ''\n",
    "        for x in soup.find('span', class_=\"DsyBj DxyfE\"):\n",
    "            if '$' not in x.text:\n",
    "                category += f'{x.text}, '\n",
    "        category = category[:-2]\n",
    "    except:\n",
    "        category = None\n",
    "\n",
    "    return (category)"
   ]
  },
  {
   "cell_type": "code",
   "execution_count": 54,
   "metadata": {},
   "outputs": [],
   "source": [
    "def getReviews(soup, url):\n",
    "    try:\n",
    "        total_reviews = int(soup.find_all('span', class_=\"count\")[0].text[1:-1].replace(',', ''));\n",
    "        # print(f'Total_reviews: {total_reviews}')\n",
    "        review_pages = total_reviews//15 if total_reviews%15 == 0 else total_reviews//15 + 1;    \n",
    "        # print(f'Review pages: {review_pages}')\n",
    "        review_list = []\n",
    "        for i in tqdm(range(0, review_pages), desc='Review crwaling...'):\n",
    "            if i > 1:\n",
    "                url_list = url.split('-Reviews-')\n",
    "                current_url = url_list[0] + f'-Reviews-or{15*i}-' + url_list[1]\n",
    "                # print(f'current_url: {current_url}')\n",
    "                response = requests.get(current_url, headers=headers)\n",
    "                response.raise_for_status()\n",
    "                html = response.text\n",
    "                soup = BeautifulSoup(html, \"html.parser\") \n",
    "\n",
    "            reviews = soup.find_all('p', class_=\"partial_entry\");\n",
    "            for review in reviews:\n",
    "                review_list.append(review.text)\n",
    "            #     print(review.text)\n",
    "            # print(f'Reviews: {len(review_list)}')\n",
    "\n",
    "            time.sleep(rd.uniform(0.1, 0.5))\n",
    "    except:\n",
    "        review_list = None\n",
    "\n",
    "    return review_list"
   ]
  },
  {
   "cell_type": "code",
   "execution_count": 56,
   "metadata": {},
   "outputs": [],
   "source": [
    "def buildDataset(driver, dataset, pages: list):\n",
    "    cnt = 0\n",
    "    for restaurant_page in tqdm(pages, desc=\"Restaurants\"):\n",
    "        response = requests.get(restaurant_page, headers=headers)\n",
    "        response.raise_for_status()\n",
    "        html = response.text\n",
    "        soup = BeautifulSoup(html, \"html.parser\")\n",
    "\n",
    "        # url\n",
    "        url = restaurant_page;    print(f'URL: {url}')\n",
    "        # Using selenium\n",
    "        driver.get(url)\n",
    "\n",
    "        # time\n",
    "        time_list = getTime(driver);    print(f'Times: {time_list}')\n",
    "        # description\n",
    "        description = getDescription(driver);   print(f'Description: {description}')\n",
    "        # images\n",
    "        images = getImages(driver)\n",
    "        try:\n",
    "            print(f'Images: {len(images)} {images}')\n",
    "        except:\n",
    "            print(f'Images: None')\n",
    "        # using request\n",
    "        # name \n",
    "        try:\n",
    "            name = soup.find('h1', class_=\"HjBfq\").text;    print(f'Name: {name}')\n",
    "        except:\n",
    "            name = None\n",
    "        # category\n",
    "        category = getCategory(soup);   print(f'Category: {category}');\n",
    "        # adress\n",
    "        try:\n",
    "            adress = soup.find_all('a', class_=\"AYHFM\")[1].text;   print(f'Adress: {adress}')\n",
    "        except:\n",
    "            adress = None\n",
    "        # rating\n",
    "        try:\n",
    "            rating = float(soup.find('span', class_=\"ZDEqb\").text);    print(f'Rating: {rating}')\n",
    "        except:\n",
    "            rating = np.NaN\n",
    "        # price\n",
    "        try:\n",
    "            priceLow = soup.find('div', class_=\"SrqKb\").text.split(' - ')[0] \n",
    "            priceHigh = soup.find('div', class_=\"SrqKb\").text.split(' - ')[1]\n",
    "        except:\n",
    "            priceLow = None; priceHigh = None\n",
    "        print (f'PriceLow: {priceLow}, PriceHigh: {priceHigh}')\n",
    "        # reviews (only english)\n",
    "        review_list = getReviews(soup, url)\n",
    "        try:\n",
    "            print(f'Reviews: {len(review_list)}')\n",
    "        except:\n",
    "            print(f'Reviews: None')\n",
    "        # call\n",
    "        try:\n",
    "            tel = soup.find('span', class_=\"AYHFM\").text\n",
    "        except:\n",
    "            tel = None; \n",
    "        print (f'TEL : {tel}')\n",
    "        \n",
    "        print()\n",
    "        time.sleep(rd.uniform(0.5, 1.5))\n",
    "        dataset.loc[cnt] = [name, category, description, time_list, url, priceLow, priceHigh, review_list, adress, rating, tel, images]\n",
    "        cnt += 1 \n",
    "        \n",
    "    return dataset "
   ]
  },
  {
   "cell_type": "code",
   "execution_count": 57,
   "metadata": {},
   "outputs": [
    {
     "name": "stderr",
     "output_type": "stream",
     "text": [
      "C:\\Users\\user\\AppData\\Local\\Temp\\ipykernel_24256\\190076976.py:11: DeprecationWarning: executable_path has been deprecated, please pass in a Service object\n",
      "  driver = webdriver.Chrome(ChromeDriverManager().install(), options=options)\n",
      "Restaurants:   0%|          | 0/10 [00:00<?, ?it/s]"
     ]
    },
    {
     "name": "stdout",
     "output_type": "stream",
     "text": [
      "URL: https://www.tripadvisor.com//Restaurant_Review-g25231262-d24161498-Reviews-Co_Ba_Ph_Bo-Hai_Chau_Da_Nang.html\n",
      "Times: ['Sun:10:00 AM - 10:00 PM', 'Mon:10:00 AM - 10:00 PM', 'Tue:10:00 AM - 10:00 PM', 'Wed:10:00 AM - 10:00 PM', 'Thu:10:00 AM - 10:00 PM', 'Fri:10:00 AM - 10:00 PM', 'Sat:10:00 AM - 10:00 PM']\n",
      "Description: None\n",
      "Images: 24 ['https://media-cdn.tripadvisor.com/media/photo-s/2a/db/ba/bf/caption.jpg', 'https://media-cdn.tripadvisor.com/media/photo-s/2a/db/ba/be/caption.jpg', 'https://media-cdn.tripadvisor.com/media/photo-s/2a/db/ba/bd/caption.jpg', 'https://media-cdn.tripadvisor.com/media/photo-s/2a/db/ba/bc/caption.jpg', 'https://media-cdn.tripadvisor.com/media/photo-s/2a/db/ba/bb/caption.jpg', 'https://media-cdn.tripadvisor.com/media/photo-s/2a/db/ba/ba/caption.jpg', 'https://media-cdn.tripadvisor.com/media/photo-s/2a/db/ba/b9/caption.jpg', 'https://media-cdn.tripadvisor.com/media/photo-s/2a/db/ba/b8/caption.jpg', 'https://media-cdn.tripadvisor.com/media/photo-s/26/34/4d/92/caption.jpg', 'https://media-cdn.tripadvisor.com/media/photo-s/26/34/4d/20/caption.jpg', 'https://media-cdn.tripadvisor.com/media/photo-s/26/34/4c/99/caption.jpg', 'https://media-cdn.tripadvisor.com/media/photo-s/26/34/4c/27/caption.jpg', 'https://media-cdn.tripadvisor.com/media/photo-s/26/34/4b/93/caption.jpg', 'https://media-cdn.tripadvisor.com/media/photo-s/26/34/4b/11/caption.jpg', 'https://media-cdn.tripadvisor.com/media/photo-w/2a/d6/3e/30/caption.jpg', 'https://media-cdn.tripadvisor.com/media/photo-s/2a/d4/e5/cc/caption.jpg', 'https://media-cdn.tripadvisor.com/media/photo-s/2a/d4/a9/45/caption.jpg', 'https://media-cdn.tripadvisor.com/media/photo-s/2a/d2/fa/42/caption.jpg', 'https://media-cdn.tripadvisor.com/media/photo-s/2a/d2/fa/41/caption.jpg', 'https://media-cdn.tripadvisor.com/media/photo-s/2a/d1/5f/0a/caption.jpg', 'https://media-cdn.tripadvisor.com/media/photo-w/2a/d1/57/21/caption.jpg', 'https://media-cdn.tripadvisor.com/media/photo-s/2a/cf/f3/3f/caption.jpg', 'https://media-cdn.tripadvisor.com/media/photo-s/2a/cf/f3/3e/caption.jpg', 'https://media-cdn.tripadvisor.com/media/photo-s/2a/cf/e2/31/caption.jpg']\n",
      "Name: Cô Ba Phở Bò\n",
      "Category: Seafood, Asian, Vietnamese\n",
      "Adress: 154 Bạch Đằng Hải Châu 1, Hai Chau, Da Nang 550000 Vietnam\n",
      "Rating: 5.0\n",
      "PriceLow: None, PriceHigh: None\n"
     ]
    },
    {
     "name": "stderr",
     "output_type": "stream",
     "text": [
      "Set restaurant pages: 100%|██████████| 49/49 [01:12<00:00,  1.49s/it]\n"
     ]
    },
    {
     "name": "stdout",
     "output_type": "stream",
     "text": [
      "Total restraurant pages: 1811\n"
     ]
    },
    {
     "name": "stderr",
     "output_type": "stream",
     "text": [
      "Restaurants:   0%|          | 0/5 [00:00<?, ?it/s]"
     ]
    },
    {
     "name": "stdout",
     "output_type": "stream",
     "text": [
      "Name: Rainbowl Poke\n",
      "Category: Japanese, Fusion, Healthy\n",
      "Adress: 02 An Thượng 32 Bắc Mỹ Phú, Ngũ Hành Sơn, Da Nang 550000 Vietnam\n",
      "Rating: 5.0 \n",
      "URL: https://www.tripadvisor.com//Restaurant_Review-g298085-d24038346-Reviews-Rainbowl_Poke-Da_Nang.html\n",
      "PriceLow: nan, PriceHigh: nan\n",
      "Total_reviews: 19\n",
      "Review pages: 2\n"
     ]
    },
    {
     "name": "stderr",
     "output_type": "stream",
     "text": [
      "Review crwaling...: 100%|██████████| 2/2 [00:00<00:00,  2.26it/s]\n"
     ]
    },
    {
     "name": "stdout",
     "output_type": "stream",
     "text": [
      "Reviews: 30\n",
      "Times: []\n",
      "Description: nan\n",
      "\n"
     ]
    },
    {
     "name": "stderr",
     "output_type": "stream",
     "text": [
      "c:\\Users\\haseong\\AppData\\Local\\Programs\\Python\\Python310\\lib\\site-packages\\pandas\\core\\dtypes\\cast.py:949: VisibleDeprecationWarning: Creating an ndarray from ragged nested sequences (which is a list-or-tuple of lists-or-tuples-or ndarrays with different lengths or shapes) is deprecated. If you meant to do this, you must specify 'dtype=object' when creating the ndarray.\n",
      "  element = np.asarray(element)\n",
      "Restaurants:  20%|██        | 1/5 [00:19<01:17, 19.34s/it]"
     ]
    },
    {
     "name": "stdout",
     "output_type": "stream",
     "text": [
      "Name: Cardi Pizzeria Bach Dang\n",
      "Category: American, Steakhouse, Brew Pub\n",
      "Adress: 124 Bạch Đằng, Hải Châu, Đà Nẵng, Da Nang Vietnam\n",
      "URL: https://www.tripadvisor.com//Restaurant_Review-g298085-d24985405-Reviews-Cardi_Pizzeria_Bach_Dang-Da_Nang.html\n",
      "PriceLow: nan, PriceHigh: nan\n",
      "Total_reviews: 333\n",
      "Review pages: 23\n"
      "URL: https://www.tripadvisor.com//Restaurant_Review-g298085-d24985405-Reviews-Cardi_Pizzeria_Bach_Dang-Da_Nang.html\n",
      "Times: None\n",
      "Description: Premium Steak & Pizza Certified Imported Steak, Fresh Italian Standard Pizza, Premium Wine Cellar Millionaire Han River view. We have a chain of 4 restaurants in Da Nang and Hoi An: 124 Bạch Đằng, Đà Nẵng 76 Đường 2/9, Đà Nẵng, 93 Võ Văn Kiệt, Đà Nẵng and 32 Thái Phiên, Hội An\n",
     "output_type": "stream",
     "text": [
      "Review crwaling...: 100%|██████████| 23/23 [00:49<00:00,  2.17s/it]\n"
      "Review crwaling...: 100%|██████████| 23/23 [00:40<00:00,  1.75s/it]\n"
     ]
    },
    {
     "name": "stdout",
     "output_type": "stream",
     "text": [
      "Reviews: 333\n",
      "Times: ['Sun:12:00 AM - 11:59 PM', 'Mon:12:00 AM - 11:59 PM', 'Tue:12:00 AM - 11:59 PM', 'Wed:12:00 AM - 11:59 PM', 'Thu:12:00 AM - 11:59 PM', 'Fri:12:00 AM - 11:59 PM', 'Sat:12:00 AM - 11:59 PM']\n",
      "Description: nan\n",
      "\n"
     ]
    },
    {
     "name": "stderr",
     "output_type": "stream",
     "text": [
      "Restaurants:  40%|████      | 2/5 [01:20<02:12, 44.03s/it]"
     ]
    },
    {
     "name": "stdout",
     "output_type": "stream",
     "text": [
      "Name: Ca Chuon Co Vietnamese - Seafood Restaurant.\n",
      "Category: Cafe, International, Asian\n",
      "Adress: 99 Vo Nguyen Giap Street Ngu Hanh Son District, Da Nang 550000 Vietnam\n",
      "Rating: 5.0 \n",
      "URL: https://www.tripadvisor.com//Restaurant_Review-g298085-d7000524-Reviews-Ca_Chuon_Co_Vietnamese_Seafood_Restaurant-Da_Nang.html\n",
      "PriceLow: ₩12,953, PriceHigh: ₩38,860\n",
      "Total_reviews: 226\n",
      "Review pages: 16\n"
     ]
    },
    {
     "name": "stderr",
     "output_type": "stream",
     "text": [
      "Review crwaling...: 100%|██████████| 16/16 [00:32<00:00,  2.03s/it]\n"
     ]
    },
    {
     "name": "stdout",
     "output_type": "stream",
     "text": [
      "Reviews: 226\n",
      "Times: ['Sun:06:00 AM - 10:00 PM', 'Mon:06:00 AM - 10:00 PM', 'Tue:06:00 AM - 10:00 PM', 'Wed:06:00 AM - 10:00 PM', 'Thu:06:00 AM - 10:00 PM', 'Fri:06:00 AM - 10:00 PM', 'Sat:06:00 AM - 10:00 PM']\n",
      "Description: nan\n",
      "\n"
     ]
    },
    {
     "name": "stderr",
     "output_type": "stream",
     "text": [
      "Restaurants:  60%|██████    | 3/5 [02:03<01:27, 43.67s/it]"
     ]
    },
    {
     "name": "stdout",
     "output_type": "stream",
     "text": [
      "Name: Bistecca Restaurant Danang\n",
      "Category: Italian, Southwestern, European\n",
      "Adress: 20 Dong Da 7F New Orient Hotel, Thuan Phuoc Ward, Hai Chau District, Da Nang 550000 Vietnam\n",
      "Rating: 5.0 \n",
      "URL: https://www.tripadvisor.com//Restaurant_Review-g298085-d13236259-Reviews-Bistecca_Restaurant_Danang-Da_Nang.html\n",
      "PriceLow: ₩3,886, PriceHigh: ₩64,767\n",
      "Total_reviews: 77\n",
      "Review pages: 6\n"
     ]
    },
    {
     "name": "stderr",
     "output_type": "stream",
     "text": [
      "Review crwaling...: 100%|██████████| 6/6 [00:09<00:00,  1.53s/it]\n"
      "Review crwaling...: 100%|██████████| 6/6 [00:07<00:00,  1.24s/it]\n"
     ]
    },
    {
     "name": "stdout",
     "output_type": "stream",
     "text": [
      "Reviews: 77\n",
      "Times: ['Sun:06:00 AM - 10:00 PM', 'Mon:06:00 AM - 10:00 PM', 'Tue:06:00 AM - 10:00 PM', 'Wed:06:00 AM - 10:00 PM', 'Thu:06:00 AM - 10:00 PM', 'Fri:06:00 AM - 10:00 PM', 'Sat:06:00 AM - 10:00 PM']\n",
      "Description: nan\n",
      "Reviews: 78\n",
      "TEL : +84 236 3828 828\n",
      "\n"
     ]
    },
    {
     "name": "stderr",
     "output_type": "stream",
     "text": [
      "Restaurants:  80%|████████  | 4/5 [02:24<00:34, 34.51s/it]"
      "Restaurants:  30%|███       | 3/10 [01:32<03:34, 30.59s/it]"
     ]
    },
    {
     "name": "stdout",
     "output_type": "stream",
     "text": [
      "Name: 3 Big - Nướng & Lẩu\n",
      "Category: Pizza, Barbecue, Korean\n",
      "Adress: 134 Phan Châu Trinh, Phước Ninh, Hải Châu, Đà Nẵng, Da Nang 550000 Vietnam\n",
      "Rating: 5.0 \n",
      "URL: https://www.tripadvisor.com//Restaurant_Review-g298085-d24082246-Reviews-3_Big_Nu_ng_L_u-Da_Nang.html\n",
      "PriceLow: nan, PriceHigh: nan\n",
      "Total_reviews: 13\n",
      "Review pages: 1\n",
      "URL: https://www.tripadvisor.com//Restaurant_Review-g298085-d7000524-Reviews-Ca_Chuon_Co_Vietnamese_Seafood_Restaurant-Da_Nang.html\n",
      "Times: ['Sun:06:00 AM - 10:00 PM', 'Mon:06:00 AM - 10:00 PM', 'Tue:06:00 AM - 10:00 PM', 'Wed:06:00 AM - 10:00 PM', 'Thu:06:00 AM - 10:00 PM', 'Fri:06:00 AM - 10:00 PM', 'Sat:06:00 AM - 10:00 PM']\n",
      "Description: Ca Chuon Co, ('flying fish') a modern stylish venue to enjoy the freshest seafood catch of the day. Sit back, relax and bask in the balmy sea breezes of the South East Sea. The Ca Chuon Co restaurant will deliver to you the most authentic traditional Vietnamese Food and the best taste of our local flavor to your dish.\n",
      "Images: 24 ['https://media-cdn.tripadvisor.com/media/photo-s/27/67/28/2f/main-dining-room-with.jpg', 'https://media-cdn.tripadvisor.com/media/photo-s/26/ab/ba/21/beachfront-restaurant.jpg', 'https://media-cdn.tripadvisor.com/media/photo-s/26/ab/ba/32/rooftop.jpg', 'https://media-cdn.tripadvisor.com/media/photo-s/26/ab/ba/2a/private-dinner.jpg', 'https://media-cdn.tripadvisor.com/media/photo-w/26/ab/ba/27/ca-chuon-co-from-above.jpg', 'https://media-cdn.tripadvisor.com/media/photo-s/26/ab/ba/23/terrace.jpg', 'https://media-cdn.tripadvisor.com/media/photo-s/26/ab/ba/07/great-venue-for-family.jpg', 'https://media-cdn.tripadvisor.com/media/photo-s/26/ab/ba/01/main-dining-room.jpg', 'https://media-cdn.tripadvisor.com/media/photo-s/26/ab/ba/00/private-wedding.jpg', 'https://media-cdn.tripadvisor.com/media/photo-s/0c/c8/fb/7f/caption.jpg', 'https://media-cdn.tripadvisor.com/media/photo-s/0c/c8/fb/7e/caption.jpg', 'https://media-cdn.tripadvisor.com/media/photo-o/14/79/16/4a/dsc-7820-largejpg.jpg', 'https://media-cdn.tripadvisor.com/media/photo-s/2a/e3/fd/4f/caption.jpg', 'https://media-cdn.tripadvisor.com/media/photo-s/2a/e2/15/63/caption.jpg', 'https://media-cdn.tripadvisor.com/media/photo-s/2a/e0/d9/ed/caption.jpg', 'https://media-cdn.tripadvisor.com/media/photo-s/2a/e0/d9/ec/caption.jpg', 'https://media-cdn.tripadvisor.com/media/photo-s/2a/e0/d9/eb/caption.jpg', 'https://media-cdn.tripadvisor.com/media/photo-s/2a/e0/d9/ea/caption.jpg', 'https://media-cdn.tripadvisor.com/media/photo-s/2a/e0/d9/e9/caption.jpg', 'https://media-cdn.tripadvisor.com/media/photo-p/2a/da/1d/66/caption.jpg', 'https://media-cdn.tripadvisor.com/media/photo-s/2a/d8/82/0b/caption.jpg', 'https://media-cdn.tripadvisor.com/media/photo-w/2a/ca/e0/93/caption.jpg', 'https://media-cdn.tripadvisor.com/media/photo-s/2a/ba/49/cb/caption.jpg', 'https://media-cdn.tripadvisor.com/media/photo-w/2a/b7/33/33/caption.jpg']\n",
      "Name: Ca Chuon Co Vietnamese - Seafood Restaurant.\n",
      "Category: Cafe, International, Asian\n",
      "Adress: 99 Vo Nguyen Giap Street Ngu Hanh Son District, Da Nang 550000 Vietnam\n",
      "Rating: 5.0\n",
      "PriceLow: ₩13,021, PriceHigh: ₩39,062\n"
     ]
    },
    {
     "name": "stderr",
     "output_type": "stream",
     "text": [
      "Review crwaling...: 100%|██████████| 1/1 [00:00<00:00,  2.88it/s]\n",
      "Review crwaling...: 100%|██████████| 16/16 [00:24<00:00,  1.50s/it]\n"
     ]
    },
    {
     "name": "stdout",
     "output_type": "stream",
     "text": [
      "Reviews: 229\n",
      "TEL : +84 236 3919 999\n",
      "\n"
     ]
    },
    {
     "name": "stderr",
     "output_type": "stream",
     "text": [
      "Restaurants:  40%|████      | 4/10 [02:07<03:12, 32.06s/it]"
     ]
    },
    {
     "name": "stdout",
     "output_type": "stream",
     "text": [
      "URL: https://www.tripadvisor.com//Restaurant_Review-g298085-d24082246-Reviews-3_Big_Nu_ng_L_u-Da_Nang.html\n",
      "Times: ['Sun:11:00 AM - 11:00 PM', 'Mon:11:00 AM - 10:00 PM', 'Tue:11:00 AM - 10:00 PM', 'Wed:11:00 AM - 10:00 PM', 'Thu:11:00 AM - 10:00 PM', 'Fri:11:00 AM - 10:00 PM', 'Sat:11:00 AM - 10:00 PM']\n",
      "Description: 3 BiG - Nướng & Lẩu Nhà hàng BBQ - Thịt nướng - Korean Buffet - Buffet Tobokki & Pizza BBQ Restaurant - Grilled Beef - Korean Buffet - Tobokki Buffet\n",
      "Images: 24 ['https://media-cdn.tripadvisor.com/media/photo-w/24/03/90/48/3-big-khai-truong-02.jpg', 'https://media-cdn.tripadvisor.com/media/photo-s/24/03/91/08/3-big-khai-truong-08.jpg', 'https://media-cdn.tripadvisor.com/media/photo-s/24/03/91/03/3-big-khai-truong-07.jpg', 'https://media-cdn.tripadvisor.com/media/photo-s/24/03/91/00/3-big-khai-truong-06.jpg', 'https://media-cdn.tripadvisor.com/media/photo-s/24/03/90/fa/3-big-khai-truong-05.jpg', 'https://media-cdn.tripadvisor.com/media/photo-s/24/03/90/f5/3-big-khai-truong-04.jpg', 'https://media-cdn.tripadvisor.com/media/photo-s/24/03/90/f2/3-big-khai-truong-03.jpg', 'https://media-cdn.tripadvisor.com/media/photo-w/24/03/90/41/3-big-khai-truong-01.jpg', 'https://media-cdn.tripadvisor.com/media/photo-s/2a/e6/c9/aa/caption.jpg', 'https://media-cdn.tripadvisor.com/media/photo-p/2a/e3/9c/cd/caption.jpg', 'https://media-cdn.tripadvisor.com/media/photo-s/2a/e3/4a/ca/caption.jpg', 'https://media-cdn.tripadvisor.com/media/photo-s/2a/e1/b6/65/caption.jpg', 'https://media-cdn.tripadvisor.com/media/photo-s/2a/df/45/a7/caption.jpg', 'https://media-cdn.tripadvisor.com/media/photo-s/2a/df/44/78/caption.jpg', 'https://media-cdn.tripadvisor.com/media/photo-s/2a/df/44/77/caption.jpg', 'https://media-cdn.tripadvisor.com/media/photo-p/2a/df/44/76/caption.jpg', 'https://media-cdn.tripadvisor.com/media/photo-s/2a/dd/a7/8e/caption.jpg', 'https://media-cdn.tripadvisor.com/media/photo-s/2a/dd/a7/01/caption.jpg', 'https://media-cdn.tripadvisor.com/media/photo-s/2a/dd/a5/a3/caption.jpg', 'https://media-cdn.tripadvisor.com/media/photo-s/2a/dd/a5/a2/caption.jpg', 'https://media-cdn.tripadvisor.com/media/photo-s/2a/db/ea/18/caption.jpg', 'https://media-cdn.tripadvisor.com/media/photo-s/2a/db/ea/17/caption.jpg', 'https://media-cdn.tripadvisor.com/media/photo-s/2a/db/ea/16/caption.jpg', 'https://media-cdn.tripadvisor.com/media/photo-s/2a/db/ea/15/caption.jpg']\n",
      "Name: 3 Big - Nướng & Lẩu\n",
      "Category: Pizza, Barbecue, Korean\n",
      "Adress: 134 Phan Châu Trinh, Phước Ninh, Hải Châu, Đà Nẵng, Da Nang 550000 Vietnam\n",
      "Rating: 5.0\n",
      "PriceLow: None, PriceHigh: None\n"
     ]
    },
    {
     "name": "stderr",
     "output_type": "stream",
     "text": [
      "Review crwaling...: 100%|██████████| 1/1 [00:00<00:00,  2.61it/s]\n"
     ]
    },
    {
     "name": "stdout",
     "output_type": "stream",
     "text": [
      "Reviews: 13\n",
      "Times: ['Sun:11:00 AM - 11:00 PM', 'Mon:11:00 AM - 10:00 PM', 'Tue:11:00 AM - 10:00 PM', 'Wed:11:00 AM - 10:00 PM', 'Thu:11:00 AM - 10:00 PM', 'Fri:11:00 AM - 10:00 PM', 'Sat:11:00 AM - 10:00 PM']\n",
      "Description: nan\n",
      "TEL : +84 236 3569 000\n",
      "\n"
     ]
    },
    {
     "name": "stderr",
     "output_type": "stream",
     "text": [
      "Restaurants: 100%|██████████| 5/5 [02:36<00:00, 31.27s/it]",
      "Restaurants:  50%|█████     | 5/10 [02:17<02:01, 24.34s/it]"
     ]
    },
    {
     "name": "stdout",
     "output_type": "stream",
     "text": [
      "URL: https://www.tripadvisor.com//Restaurant_Review-g15296807-d13810289-Reviews-Thia_G_Restaurant_Da_Nang-My_An_Da_Nang.html\n",
      "Times: ['Sun:10:00 AM - 10:00 PM', 'Mon:10:00 AM - 10:00 PM', 'Tue:10:00 AM - 10:00 PM', 'Wed:10:00 AM - 10:00 PM', 'Thu:10:00 AM - 10:00 PM', 'Fri:10:00 AM - 10:00 PM', 'Sat:10:00 AM - 10:00 PM']\n",
      "Description: None\n",
      "Images: 24 ['https://media-cdn.tripadvisor.com/media/video-t/29/45/35/50/thia-g-restaurant-da-1.jpg', 'https://media-cdn.tripadvisor.com/media/photo-s/28/ff/c8/cf/caption.jpg', 'https://media-cdn.tripadvisor.com/media/photo-s/29/03/46/d0/caption.jpg', 'https://media-cdn.tripadvisor.com/media/photo-s/29/45/2e/7d/lau-mam-thia-go-restaurant.jpg', 'https://media-cdn.tripadvisor.com/media/photo-s/28/ff/c8/cb/caption.jpg', 'https://media-cdn.tripadvisor.com/media/photo-w/19/3d/22/de/img20190914193353-largejpg.jpg', 'https://media-cdn.tripadvisor.com/media/photo-s/29/45/2e/da/pha-lau-vit-thia-go-restaurant.jpg', 'https://media-cdn.tripadvisor.com/media/photo-s/29/45/2e/1a/banh-xeo-thia-go-restaurant.jpg', 'https://media-cdn.tripadvisor.com/media/photo-s/29/45/2d/f5/pho-thia-go-restaurant.jpg', 'https://media-cdn.tripadvisor.com/media/photo-s/1d/26/54/de/thia-g-restaurant-da.jpg', 'https://media-cdn.tripadvisor.com/media/photo-s/1d/26/54/07/thia-g-restaurant-da.jpg', 'https://media-cdn.tripadvisor.com/media/photo-o/1c/c0/c7/27/vietnamese-pancake-banh.jpg', 'https://media-cdn.tripadvisor.com/media/photo-s/1c/c0/c7/28/this-is-one-of-the-world.jpg', 'https://media-cdn.tripadvisor.com/media/photo-s/1c/c1/5a/28/thia-g-restaurant-danang.jpg', 'https://media-cdn.tripadvisor.com/media/photo-s/0f/a8/5b/c6/photo0jpg.jpg', 'https://media-cdn.tripadvisor.com/media/photo-s/1a/54/e9/4e/photo0jpg.jpg', 'https://media-cdn.tripadvisor.com/media/photo-s/0f/ee/04/73/photo0jpg.jpg', 'https://media-cdn.tripadvisor.com/media/photo-s/16/98/88/34/photo4jpg.jpg', 'https://media-cdn.tripadvisor.com/media/photo-s/14/87/cc/f9/photo2jpg.jpg', 'https://media-cdn.tripadvisor.com/media/photo-s/14/66/3d/0a/photo1jpg.jpg', 'https://media-cdn.tripadvisor.com/media/photo-s/18/94/86/7f/thien-ly-danang-style.jpg', 'https://media-cdn.tripadvisor.com/media/photo-s/11/01/65/81/caption.jpg', 'https://media-cdn.tripadvisor.com/media/photo-s/16/98/88/39/photo9jpg.jpg', 'https://media-cdn.tripadvisor.com/media/photo-s/10/95/f0/dc/lunch-at-thien-ly.jpg']\n",
      "Name: Thìa Gỗ Restaurant Da Nang\n",
      "Category: Vietnamese, Vegetarian Friendly\n",
      "Adress: 53 Phan Thuc Duyen, My An, Da Nang 50507 Vietnam\n",
      "Rating: 5.0\n",
      "PriceLow: ₩2,135, PriceHigh: ₩26,693\n"
     ]
    },
    {
     "name": "stderr",
     "output_type": "stream",
     "text": [
      "Review crwaling...: 100%|██████████| 125/125 [03:30<00:00,  1.68s/it]\n"
     ]
    },
    {
     "name": "stdout",
     "output_type": "stream",
     "text": [
      "Reviews: 1861\n",
      "TEL : Improve this listing\n",
      "\n"
     ]
    },
    {
     "name": "stderr",
     "output_type": "stream",
     "text": [
      "Restaurants:  60%|██████    | 6/10 [06:01<06:08, 92.09s/it]"
     ]
    },
    {
     "name": "stdout",
     "output_type": "stream",
     "text": [
      "URL: https://www.tripadvisor.com//Restaurant_Review-g298085-d14199145-Reviews-Cabanon_Palace-Da_Nang.html\n",
      "Times: ['Mon:5:30 PM - 10:00 PM', 'Tue:5:30 PM - 10:00 PM', 'Wed:5:30 PM - 10:00 PM', 'Thu:5:30 PM - 10:00 PM', 'Fri:5:30 PM - 10:00 PM', 'Sat:5:30 PM - 10:00 PM']\n",
      "Description: Proud of the authentic flavour from French Riviera (since 2013) 以来自法国里维埃拉的原味（自 2013 年起） Tasty and generous family recipes to savor during a nice dinner overlooking an amazing sunset and the wonderful Da Nang city by night.\n",
      "Images: None\n",
      "Name: Cabanon Palace\n",
      "Category: French, Mediterranean, European\n",
      "Adress: 27-29 Loseby Street Cordial Hotel 21th Floor, Sơn Tra, Da Nang 550000 Vietnam\n",
      "Rating: 5.0\n",
      "PriceLow: ₩55,990, PriceHigh: ₩130,208\n"
     ]
    },
    {
     "name": "stderr",
     "output_type": "stream",
     "text": [
      "Review crwaling...: 100%|██████████| 7/7 [00:08<00:00,  1.28s/it]\n"
     ]
    },
    {
     "name": "stdout",
     "output_type": "stream",
     "text": [
      "Reviews: 93\n",
      "TEL : +84 79 665 3020\n",
      "\n"
     ]
    },
    {
     "name": "stderr",
     "output_type": "stream",
     "text": [
      "Restaurants:  70%|███████   | 7/10 [06:32<03:36, 72.09s/it]"
     ]
    },
    {
     "name": "stdout",
     "output_type": "stream",
     "text": [
      "URL: https://www.tripadvisor.com//Restaurant_Review-g298085-d25073751-Reviews-La_Cabana_House_of_BBQ-Da_Nang.html\n",
      "Times: ['Sun:4:00 PM - 11:00 PM', 'Mon:4:00 PM - 11:00 PM', 'Tue:4:00 PM - 11:00 PM', 'Wed:4:00 PM - 11:00 PM', 'Thu:4:00 PM - 11:00 PM', 'Fri:4:00 PM - 11:00 PM', 'Sat:4:00 PM - 11:00 PM']\n",
      "Description: La Cabana is a Cozy Argentinian Steakhouse in Da Nang. Located right in front of Carp Jumping Dragon Gate by the Han River (near Dragon bridge), La Cabana has spacious space, comfortable seats, excellent air conditioner suitable for couple and group dining. Our sparkling balcony gives you an overall view of the Han river and Dragon bridge. La Cabana's signature includes perfect grilled Argentinian Steaks with a very reasonable price. Have yourself a memorable experience with soft music, excellent food, imported wine at La Cabana restaurant.\n",
      "Images: 24 ['https://media-cdn.tripadvisor.com/media/photo-s/2a/e4/0b/3b/happy-birthday-to-la.jpg', 'https://media-cdn.tripadvisor.com/media/photo-s/27/ed/9a/fc/la-cabana-romantic-balcony.jpg', 'https://media-cdn.tripadvisor.com/media/photo-s/27/a7/cb/1e/la-cabana-bar.jpg', 'https://media-cdn.tripadvisor.com/media/photo-s/2a/b3/2d/72/thai-customers-honor.jpg', 'https://media-cdn.tripadvisor.com/media/photo-s/2a/b3/2d/71/happy-birthday-party.jpg', 'https://media-cdn.tripadvisor.com/media/photo-s/2a/b3/2d/70/celebrate-vietnamese.jpg', 'https://media-cdn.tripadvisor.com/media/photo-s/2a/37/41/4e/watching-sunset-at-la.jpg', 'https://media-cdn.tripadvisor.com/media/photo-s/2a/14/8b/e3/cold-beer-for-extreme.jpg', 'https://media-cdn.tripadvisor.com/media/photo-p/29/8f/a1/32/handsome-gym-boy-with.jpg', 'https://media-cdn.tripadvisor.com/media/photo-s/29/6c/f0/5f/sporty-girl-at-la-cabana.jpg', 'https://media-cdn.tripadvisor.com/media/photo-s/29/6c/f0/5e/ultra-marathon-girl-enjoy.jpg', 'https://media-cdn.tripadvisor.com/media/photo-s/29/42/a0/74/linhsepgo-gorgeous-tiktoker.jpg', 'https://media-cdn.tripadvisor.com/media/photo-s/29/3b/84/0c/beautiful-girl-party.jpg', 'https://media-cdn.tripadvisor.com/media/photo-s/29/3b/84/0b/customers-enjoys-drink.jpg', 'https://media-cdn.tripadvisor.com/media/photo-s/29/3b/84/0a/tomahawk-steak-and-goat.jpg', 'https://media-cdn.tripadvisor.com/media/photo-s/29/3b/84/09/tomahawk-steak-at-la.jpg', 'https://media-cdn.tripadvisor.com/media/photo-s/29/3b/84/08/wine-at-la-cabana.jpg', 'https://media-cdn.tripadvisor.com/media/photo-s/29/17/48/68/happy-birthday-party.jpg', 'https://media-cdn.tripadvisor.com/media/photo-s/29/17/48/67/tomahawk-steak-cutting.jpg', 'https://media-cdn.tripadvisor.com/media/photo-s/29/17/48/66/serving-tomahawk-steak.jpg', 'https://media-cdn.tripadvisor.com/media/photo-s/29/17/48/65/girls-having-wonderful.jpg', 'https://media-cdn.tripadvisor.com/media/photo-s/29/17/48/64/tomahawk-steak.jpg', 'https://media-cdn.tripadvisor.com/media/photo-s/29/17/35/79/family-having-weekend.jpg', 'https://media-cdn.tripadvisor.com/media/photo-s/29/17/35/76/cutting-tomahawk-for.jpg']\n",
      "Name: La Cabana - House of BBQ\n",
      "Category: Steakhouse, Grill, Diner\n",
      "Adress: 505 D. Tran Hung Dao An Hai Trung, Son Tra, Da Nang 55000 Vietnam\n",
      "Rating: 5.0\n",
      "PriceLow: ₩9,115, PriceHigh: ₩39,062\n"
     ]
    },
    {
     "name": "stderr",
     "output_type": "stream",
     "text": [
      "Review crwaling...: 100%|██████████| 11/11 [00:16<00:00,  1.52s/it]\n"
     ]
    },
    {
     "name": "stdout",
     "output_type": "stream",
     "text": [
      "Reviews: 156\n",
      "TEL : +84 93 493 51 98\n",
      "\n"
     ]
    },
    {
     "name": "stderr",
     "output_type": "stream",
     "text": [
      "Restaurants:  80%|████████  | 8/10 [06:59<01:55, 57.65s/it]"
     ]
    },
    {
     "name": "stdout",
     "output_type": "stream",
     "text": [
      "URL: https://www.tripadvisor.com//Restaurant_Review-g298085-d3187207-Reviews-The_Golden_Dragon-Da_Nang.html\n",
      "Times: ['Sun:11:30 AM - 2:00 PM:5:30 PM - 9:30 PM', 'Mon:11:30 AM - 2:00 PM:5:30 PM - 9:30 PM', 'Tue:11:30 AM - 2:00 PM:5:30 PM - 9:30 PM', 'Wed:11:30 AM - 2:00 PM:5:30 PM - 9:30 PM', 'Thu:11:30 AM - 2:00 PM:5:30 PM - 9:30 PM', 'Fri:11:30 AM - 2:00 PM:5:30 PM - 9:30 PM', 'Sat:11:30 AM - 2:00 PM:5:30 PM - 9:30 PM']\n",
      "Description: Tease your taste bud with authentic Cantonese cuisine in this Chinese style restaurant daily for lunch & dinner (except Monday). DIM SUM A-LA-CARTE MENU: Soup, Steamed/ Fried Dim sum, Steamed Rice Roll, Congee, Fried rice, Noodles, Dessert, etc. CHINESE A-LA-CARTE MENU: Roasted Duck, Suckling pig, BBQ pork glaze with honey, abalone soup, etc. ALL-YOU-CAN-EAT DIM SUM. CHINESE SET MENUS for group from 4 people. The famous must-try CHINESE BUFFET is available on SUNDAY for lunch & dinner.\n",
      "Images: 24 ['https://media-cdn.tripadvisor.com/media/photo-s/15/c3/18/eb/golden-dragon-2nd-floor.jpg', 'https://media-cdn.tripadvisor.com/media/photo-s/15/c3/18/6b/all-you-can-eat-dim-sum.jpg', 'https://media-cdn.tripadvisor.com/media/photo-s/15/c3/17/88/sunday-chinese-brunch.jpg', 'https://media-cdn.tripadvisor.com/media/photo-s/15/c3/17/21/all-you-can-eat-dim-sum.jpg', 'https://media-cdn.tripadvisor.com/media/photo-s/15/c3/16/77/all-you-can-eat-dim-sum.jpg', 'https://media-cdn.tripadvisor.com/media/photo-s/17/fe/30/bf/sunday-chinese-buffet.jpg', 'https://media-cdn.tripadvisor.com/media/photo-s/15/c3/18/08/sunday-chinese-brunch.jpg', 'https://media-cdn.tripadvisor.com/media/photo-s/15/c3/16/dc/sunday-chinese-brunch.jpg', 'https://media-cdn.tripadvisor.com/media/photo-s/19/cc/ce/1f/the-golden-dragon.jpg', 'https://media-cdn.tripadvisor.com/media/photo-w/15/c3/16/69/golden-dragon-2nd-floor.jpg', 'https://media-cdn.tripadvisor.com/media/photo-s/17/fe/31/60/sunday-chinese-buffet.jpg', 'https://media-cdn.tripadvisor.com/media/photo-p/23/d1/6c/3c/weekend-chinese-dim-sum.jpg', 'https://media-cdn.tripadvisor.com/media/photo-s/23/d1/6b/d5/weekend-chinese-dim-sum.jpg', 'https://media-cdn.tripadvisor.com/media/photo-s/23/d1/6b/59/weekend-chinese-dim-sum.jpg', 'https://media-cdn.tripadvisor.com/media/photo-p/23/d1/6a/ef/weekend-chinese-dim-sum.jpg', 'https://media-cdn.tripadvisor.com/media/photo-p/23/d1/6a/81/weekend-chinese-dim-sum.jpg', 'https://media-cdn.tripadvisor.com/media/photo-p/23/d1/6a/37/weekend-chinese-dim-sum.jpg', 'https://media-cdn.tripadvisor.com/media/photo-p/23/d1/69/d6/weekend-chinese-dim-sum.jpg', 'https://media-cdn.tripadvisor.com/media/photo-p/23/d1/69/64/weekend-chinese-dim-sum.jpg', 'https://media-cdn.tripadvisor.com/media/photo-p/23/d1/69/01/weekend-chinese-dim-sum.jpg', 'https://media-cdn.tripadvisor.com/media/photo-p/23/d1/68/92/weekend-chinese-dim-sum.jpg', 'https://media-cdn.tripadvisor.com/media/photo-s/23/d1/68/5c/weekend-chinese-dim-sum.jpg', 'https://media-cdn.tripadvisor.com/media/photo-s/23/d1/68/0e/weekend-chinese-dim-sum.jpg', 'https://media-cdn.tripadvisor.com/media/photo-s/1c/77/1f/6f/photo0jpg.jpg']\n",
      "Name: The Golden Dragon\n",
      "Category: Chinese, International, Asian\n",
      "Adress: 2nd Floor, Grand Mercure Danang Hotel, Lot A1, Green Island, Hoa Cuong Bac Ward, Hai Chau District, Da Nang 550000 Vietnam\n",
      "Rating: 5.0\n",
      "PriceLow: None, PriceHigh: None\n"
     ]
    },
    {
     "name": "stderr",
     "output_type": "stream",
     "text": [
      "Review crwaling...: 100%|██████████| 8/8 [00:10<00:00,  1.36s/it]\n"
     ]
    },
    {
     "name": "stdout",
     "output_type": "stream",
     "text": [
      "Reviews: 115\n",
      "TEL : +84 236 3797 777\n",
      "\n"
     ]
    },
    {
     "name": "stderr",
     "output_type": "stream",
     "text": [
      "Restaurants:  90%|█████████ | 9/10 [07:20<00:46, 46.22s/it]"
     ]
    },
    {
     "name": "stdout",
     "output_type": "stream",
     "text": [
      "URL: https://www.tripadvisor.com//Restaurant_Review-g298085-d25502987-Reviews-The_Gypsy_Rooftop_Restaurant_Bar-Da_Nang.html\n",
      "Times: ['Sun:5:00 PM - 12:00 AM', 'Mon:5:00 PM - 12:00 AM', 'Tue:5:00 PM - 12:00 AM', 'Wed:5:00 PM - 12:00 AM', 'Thu:5:00 PM - 12:00 AM', 'Fri:5:00 PM - 12:00 AM', 'Sat:5:00 PM - 12:00 AM']\n",
      "Description: THE GYPSY is perched on the rooftop of the stylish New Orient Hotel in Hai Chau district. The panoramic, wrap-around terraces offer 360-degree views of the stunning Da Nang skyline overlooking the city and the iconic river. The restaurant and lounge bar has been designed to the finest detail, wowing guests at every turn. THE GYPSY offers a modern dining experience, revisiting world-famous ingredients & recipes with a twist using different cooking techniques including a custom-made wood fire oven. Behind the Gypsy is a multicultural crew who brought their experiences from Cannes, Hong Kong, Shanghai to create an unforgettable dining experience for their guests.\n",
      "Images: 24 ['https://media-cdn.tripadvisor.com/media/photo-s/2a/d4/a6/fb/lemon-tart.jpg', 'https://media-cdn.tripadvisor.com/media/photo-s/2a/d4/a6/fa/ribeye.jpg', 'https://media-cdn.tripadvisor.com/media/photo-s/2a/d4/a6/f9/mix-food.jpg', 'https://media-cdn.tripadvisor.com/media/photo-p/2a/d4/a6/f8/gypsy-cocktail.jpg', 'https://media-cdn.tripadvisor.com/media/photo-s/2a/d4/a6/f7/black-risotto.jpg', 'https://media-cdn.tripadvisor.com/media/photo-s/2a/d4/a6/f6/memory-cocktail.jpg', 'https://media-cdn.tripadvisor.com/media/photo-s/2a/d4/a6/8b/mix-food.jpg', 'https://media-cdn.tripadvisor.com/media/photo-s/2a/d4/a6/8a/asian-twist-dessert.jpg', 'https://media-cdn.tripadvisor.com/media/photo-s/2a/d4/a6/5f/mix-food.jpg', 'https://media-cdn.tripadvisor.com/media/photo-s/2a/d4/a6/5e/vip-table.jpg', 'https://media-cdn.tripadvisor.com/media/photo-p/2a/d4/a6/5d/dining-table.jpg', 'https://media-cdn.tripadvisor.com/media/photo-s/2a/d4/a6/5c/honey-duck.jpg', 'https://media-cdn.tripadvisor.com/media/photo-p/2a/d4/a6/5b/geanboe-cocktail.jpg', 'https://media-cdn.tripadvisor.com/media/photo-s/2a/d4/a6/5a/mix-food.jpg', 'https://media-cdn.tripadvisor.com/media/photo-p/2a/d4/a6/59/al-fredo-pasta.jpg', 'https://media-cdn.tripadvisor.com/media/photo-s/2a/d4/a6/58/mix-food.jpg', 'https://media-cdn.tripadvisor.com/media/photo-p/2a/d4/a6/57/dining-room.jpg', 'https://media-cdn.tripadvisor.com/media/photo-s/2a/d4/a6/56/vip-area.jpg', 'https://media-cdn.tripadvisor.com/media/photo-p/2a/d4/a6/55/gypsy-skewers.jpg', 'https://media-cdn.tripadvisor.com/media/photo-s/2a/d4/a6/54/honey-duck.jpg', 'https://media-cdn.tripadvisor.com/media/photo-p/2a/d4/a6/53/secret-cocktail.jpg', 'https://media-cdn.tripadvisor.com/media/photo-p/2a/d4/a6/52/espresso-martini.jpg', 'https://media-cdn.tripadvisor.com/media/photo-s/2a/d4/a6/51/asian-twist-dessert.jpg', 'https://media-cdn.tripadvisor.com/media/photo-s/29/aa/c7/10/gypsy-indoor-dining-area.jpg']\n",
      "Name: The Gypsy Rooftop Restaurant & Bar\n",
      "Category: Bar, European\n",
      "Adress: 20 Dong Da 10th floor, New Orient Hotel, Da Nang 550000 Vietnam\n",
      "Rating: 5.0\n",
      "PriceLow: ₩16,016, PriceHigh: ₩69,401\n"
     ]
    },
    {
     "name": "stderr",
     "output_type": "stream",
     "text": [
      "Review crwaling...: 100%|██████████| 10/10 [00:13<00:00,  1.35s/it]\n"
     ]
    },
    {
     "name": "stdout",
     "output_type": "stream",
     "text": [
      "Reviews: 140\n",
      "TEL : +84 774 460 753\n",
      "\n"
     ]
    },
    {
     "name": "stderr",
     "output_type": "stream",
     "text": [
      "Restaurants: 100%|██████████| 10/10 [07:43<00:00, 46.38s/it]"
     ]
    },
    {
     "name": "stdout",
     "output_type": "stream",
     "text": [
      "Dataset build complete!\n",
      "\n"
     ]
    },
    {
     "name": "stderr",
     "output_type": "stream",
     "text": [
      "\n"
     ]
    },
    {
     "data": {
      "text/html": [
       "<div>\n",
       "<style scoped>\n",
       "    .dataframe tbody tr th:only-of-type {\n",
       "        vertical-align: middle;\n",
       "    }\n",
       "\n",
       "    .dataframe tbody tr th {\n",
       "        vertical-align: top;\n",
       "    }\n",
       "\n",
       "    .dataframe thead th {\n",
       "        text-align: right;\n",
       "    }\n",
       "</style>\n",
       "<table border=\"1\" class=\"dataframe\">\n",
       "  <thead>\n",
       "    <tr style=\"text-align: right;\">\n",
       "      <th></th>\n",
       "      <th>name</th>\n",
       "      <th>category</th>\n",
       "      <th>description</th>\n",
       "      <th>time</th>\n",
       "      <th>URL</th>\n",
       "      <th>priceLow</th>\n",
       "      <th>priceHigh</th>\n",
       "      <th>reviews</th>\n",
       "      <th>adress</th>\n",
       "      <th>rating</th>\n",
       "      <th>TEL</th>\n",
       "      <th>images</th>\n",
       "    </tr>\n",
       "  </thead>\n",
       "  <tbody>\n",
       "    <tr>\n",
       "      <th>0</th>\n",
       "      <td>Rainbowl Poke</td>\n",
       "      <td>Japanese, Fusion, Healthy</td>\n",
       "      <td>NaN</td>\n",
       "      <td>[]</td>\n",
       "      <td>https://www.tripadvisor.com//Restaurant_Review...</td>\n",
       "      <td>NaN</td>\n",
       "      <td>NaN</td>\n",
       "      <td>[Delicious food. Friendly staff and great musi...</td>\n",
       "      <td>02 An Thượng 32 Bắc Mỹ Phú, Ngũ Hành Sơn, Da N...</td>\n",
       "      <td>5.0</td>\n",
       "      <td>Cô Ba Phở Bò</td>\n",
       "      <td>Seafood, Asian, Vietnamese</td>\n",
       "      <td>None</td>\n",
       "      <td>[Sun:10:00 AM - 10:00 PM, Mon:10:00 AM - 10:00...</td>\n",
       "      <td>https://www.tripadvisor.com//Restaurant_Review...</td>\n",
       "      <td>None</td>\n",
       "      <td>None</td>\n",
       "      <td>[Nice view and environment! \\nFinally tasted t...</td>\n",
       "      <td>154 Bạch Đằng Hải Châu 1, Hai Chau, Da Nang 55...</td>\n",
       "      <td>5.0</td>\n",
       "      <td>+84 236 3996 268</td>\n",
       "      <td>[https://media-cdn.tripadvisor.com/media/photo...</td>\n",
       "    </tr>\n",
       "    <tr>\n",
       "      <th>1</th>\n",
       "      <td>Cardi Pizzeria Bach Dang</td>\n",
       "      <td>American, Steakhouse, Brew Pub</td>\n",
       "      <td>NaN</td>\n",
       "      <td>[Sun:12:00 AM - 11:59 PM, Mon:12:00 AM - 11:59...</td>\n",
       "      <td>https://www.tripadvisor.com//Restaurant_Review...</td>\n",
       "      <td>NaN</td>\n",
       "      <td>NaN</td>\n",
       "      <td>[I came in for pizza because they look like th...</td>\n",
       "      <td>124 Bạch Đằng, Hải Châu, Đà Nẵng, Da Nang Vietnam</td>\n",
       "      <td>5.0</td>\n",
       "    </tr>\n",
       "    <tr>\n",
       "      <th>2</th>\n",
       "      <td>Ca Chuon Co Vietnamese - Seafood Restaurant.</td>\n",
       "      <td>Cafe, International, Asian</td>\n",
       "      <td>NaN</td>\n",
       "      <td>[Sun:06:00 AM - 10:00 PM, Mon:06:00 AM - 10:00...</td>\n",
       "      <td>https://www.tripadvisor.com//Restaurant_Review...</td>\n",
       "      <td>₩12,953</td>\n",
       "      <td>₩38,860</td>\n",
       "      <td>[We are very impressed by the excellent servic...</td>\n",
       "      <td>99 Vo Nguyen Giap Street Ngu Hanh Son District...</td>\n",
       "      <td>5.0</td>\n",
       "    </tr>\n",
       "    <tr>\n",
       "      <th>3</th>\n",
       "      <td>Bistecca Restaurant Danang</td>\n",
       "      <td>Italian, Southwestern, European</td>\n",
       "      <td>NaN</td>\n",
       "      <td>[Sun:06:00 AM - 10:00 PM, Mon:06:00 AM - 10:00...</td>\n",
       "      <td>https://www.tripadvisor.com//Restaurant_Review...</td>\n",
       "      <td>₩3,886</td>\n",
       "      <td>₩64,767</td>\n",
       "      <td>[Beautiful dinner and great service! All meals...</td>\n",
       "      <td>20 Dong Da 7F New Orient Hotel, Thuan Phuoc Wa...</td>\n",
       "      <td>5.0</td>\n",
       "      <td>Premium Steak &amp; Pizza Certified Imported Steak...</td>\n",
       "      <td>None</td>\n",
       "      <td>https://www.tripadvisor.com//Restaurant_Review...</td>\n",
       "      <td>None</td>\n",
       "      <td>None</td>\n",
       "      <td>[Great vibes.amazing pizza. Steak a bit overco...</td>\n",
       "      <td>124 Bạch Đằng, Hải Châu, Đà Nẵng, Da Nang Vietnam</td>\n",
       "      <td>5.0</td>\n",
       "      <td>+84989232315</td>\n",
       "      <td>[https://media-cdn.tripadvisor.com/media/photo...</td>\n",
       "    </tr>\n",
       "    <tr>\n",
       "      <th>2</th>\n",
       "      <td>Bistecca Restaurant Danang</td>\n",
       "      <td>Italian, Southwestern, European</td>\n",
       "      <td>Bistecca – Italian restaurant offering the ori...</td>\n",
       "      <td>[Sun:06:00 AM - 10:00 PM, Mon:06:00 AM - 10:00...</td>\n",
       "      <td>https://www.tripadvisor.com//Restaurant_Review...</td>\n",
       "      <td>₩3,906</td>\n",
       "      <td>₩65,104</td>\n",
       "      <td>[This spot is one of the most beautiful restau...</td>\n",
       "      <td>20 Dong Da 7F New Orient Hotel, Thuan Phuoc Wa...</td>\n",
       "      <td>5.0</td>\n",
       "      <td>+84 236 3828 828</td>\n",
       "      <td>[https://media-cdn.tripadvisor.com/media/photo...</td>\n",
       "    </tr>\n",
       "    <tr>\n",
       "      <th>3</th>\n",
       "      <td>Ca Chuon Co Vietnamese - Seafood Restaurant.</td>\n",
       "      <td>Cafe, International, Asian</td>\n",
       "      <td>Ca Chuon Co, ('flying fish') a modern stylish ...</td>\n",
       "      <td>[Sun:06:00 AM - 10:00 PM, Mon:06:00 AM - 10:00...</td>\n",
       "      <td>https://www.tripadvisor.com//Restaurant_Review...</td>\n",
       "      <td>₩13,021</td>\n",
       "      <td>₩39,062</td>\n",
       "      <td>[Great service great experience everything was...</td>\n",
       "      <td>99 Vo Nguyen Giap Street Ngu Hanh Son District...</td>\n",
       "      <td>5.0</td>\n",
       "      <td>+84 236 3919 999</td>\n",
       "      <td>[https://media-cdn.tripadvisor.com/media/photo...</td>\n",
       "    </tr>\n",
       "    <tr>\n",
       "      <th>4</th>\n",
       "      <td>3 Big - Nướng &amp; Lẩu</td>\n",
       "      <td>Pizza, Barbecue, Korean</td>\n",
       "      <td>NaN</td>\n",
       "      <td>[Sun:11:00 AM - 11:00 PM, Mon:11:00 AM - 10:00...</td>\n",
       "      <td>https://www.tripadvisor.com//Restaurant_Review...</td>\n",
       "      <td>NaN</td>\n",
       "      <td>NaN</td>\n",
       "      <td>[Great service. Good price and good food. The ...</td>\n",
       "      <td>134 Phan Châu Trinh, Phước Ninh, Hải Châu, Đà ...</td>\n",
       "      <td>5.0</td>\n",
       "      <td>3 BiG - Nướng &amp; Lẩu Nhà hàng BBQ - Thịt nướng ...</td>\n",
       "      <td>[Sun:11:00 AM - 11:00 PM, Mon:11:00 AM - 10:00...</td>\n",
       "      <td>https://www.tripadvisor.com//Restaurant_Review...</td>\n",
       "      <td>None</td>\n",
       "      <td>None</td>\n",
       "      <td>[Great service. Good price and good food. The ...</td>\n",
       "      <td>134 Phan Châu Trinh, Phước Ninh, Hải Châu, Đà ...</td>\n",
       "      <td>5.0</td>\n",
       "      <td>+84 236 3569 000</td>\n",
       "      <td>[https://media-cdn.tripadvisor.com/media/photo...</td>\n",
       "    </tr>\n",
       "    <tr>\n",
       "      <th>5</th>\n",
       "      <td>Thìa Gỗ Restaurant Da Nang</td>\n",
       "      <td>Vietnamese, Vegetarian Friendly</td>\n",
       "      <td>None</td>\n",
       "      <td>[Sun:10:00 AM - 10:00 PM, Mon:10:00 AM - 10:00...</td>\n",
       "      <td>https://www.tripadvisor.com//Restaurant_Review...</td>\n",
       "      <td>₩2,135</td>\n",
       "      <td>₩26,693</td>\n",
       "      <td>[Delicious Vietnamese food for a good price an...</td>\n",
       "      <td>53 Phan Thuc Duyen, My An, Da Nang 50507 Vietnam</td>\n",
       "      <td>5.0</td>\n",
       "      <td>Improve this listing</td>\n",
       "      <td>[https://media-cdn.tripadvisor.com/media/video...</td>\n",
       "    </tr>\n",
       "    <tr>\n",
       "      <th>6</th>\n",
       "      <td>Cabanon Palace</td>\n",
       "      <td>French, Mediterranean, European</td>\n",
       "      <td>Proud of the authentic flavour from French Riv...</td>\n",
       "      <td>[Mon:5:30 PM - 10:00 PM, Tue:5:30 PM - 10:00 P...</td>\n",
       "      <td>https://www.tripadvisor.com//Restaurant_Review...</td>\n",
       "      <td>₩55,990</td>\n",
       "      <td>₩130,208</td>\n",
       "      <td>[Great city view and Nathan’s recommendations ...</td>\n",
       "      <td>27-29 Loseby Street Cordial Hotel 21th Floor, ...</td>\n",
       "      <td>5.0</td>\n",
       "      <td>+84 79 665 3020</td>\n",
       "      <td>None</td>\n",
       "    </tr>\n",
       "    <tr>\n",
       "      <th>7</th>\n",
       "      <td>La Cabana - House of BBQ</td>\n",
       "      <td>Steakhouse, Grill, Diner</td>\n",
       "      <td>La Cabana is a Cozy Argentinian Steakhouse in ...</td>\n",
       "      <td>[Sun:4:00 PM - 11:00 PM, Mon:4:00 PM - 11:00 P...</td>\n",
       "      <td>https://www.tripadvisor.com//Restaurant_Review...</td>\n",
       "      <td>₩9,115</td>\n",
       "      <td>₩39,062</td>\n",
       "      <td>[This restaurant served us the best steaks we ...</td>\n",
       "      <td>505 D. Tran Hung Dao An Hai Trung, Son Tra, Da...</td>\n",
       "      <td>5.0</td>\n",
       "      <td>+84 93 493 51 98</td>\n",
       "      <td>[https://media-cdn.tripadvisor.com/media/photo...</td>\n",
       "    </tr>\n",
       "    <tr>\n",
       "      <th>8</th>\n",
       "      <td>The Golden Dragon</td>\n",
       "      <td>Chinese, International, Asian</td>\n",
       "      <td>Tease your taste bud with authentic Cantonese ...</td>\n",
       "      <td>[Sun:11:30 AM - 2:00 PM:5:30 PM - 9:30 PM, Mon...</td>\n",
       "      <td>https://www.tripadvisor.com//Restaurant_Review...</td>\n",
       "      <td>None</td>\n",
       "      <td>None</td>\n",
       "      <td>[Employee is inattentive. Very bad experiences...</td>\n",
       "      <td>2nd Floor, Grand Mercure Danang Hotel, Lot A1,...</td>\n",
       "      <td>5.0</td>\n",
       "      <td>+84 236 3797 777</td>\n",
       "      <td>[https://media-cdn.tripadvisor.com/media/photo...</td>\n",
       "    </tr>\n",
       "    <tr>\n",
       "      <th>9</th>\n",
       "      <td>The Gypsy Rooftop Restaurant &amp; Bar</td>\n",
       "      <td>Bar, European</td>\n",
       "      <td>THE GYPSY is perched on the rooftop of the sty...</td>\n",
       "      <td>[Sun:5:00 PM - 12:00 AM, Mon:5:00 PM - 12:00 A...</td>\n",
       "      <td>https://www.tripadvisor.com//Restaurant_Review...</td>\n",
       "      <td>₩16,016</td>\n",
       "      <td>₩69,401</td>\n",
       "      <td>[Oh wow I'm thrilled to have discovered this p...</td>\n",
       "      <td>20 Dong Da 10th floor, New Orient Hotel, Da Na...</td>\n",
       "      <td>5.0</td>\n",
       "      <td>+84 774 460 753</td>\n",
       "      <td>[https://media-cdn.tripadvisor.com/media/photo...</td>\n",
       "    </tr>\n",
       "  </tbody>\n",
       "</table>\n",
       "</div>"
      ],
      "text/plain": [
       "                                           name  \\\n",
       "0                                 Rainbowl Poke   \n",
       "1                      Cardi Pizzeria Bach Dang   \n",
       "2  Ca Chuon Co Vietnamese - Seafood Restaurant.   \n",
       "3                    Bistecca Restaurant Danang   \n",
       "4                           3 Big - Nướng & Lẩu   \n",
       "\n",
       "                          category  description  \\\n",
       "0        Japanese, Fusion, Healthy          NaN   \n",
       "1   American, Steakhouse, Brew Pub          NaN   \n",
       "2       Cafe, International, Asian          NaN   \n",
       "3  Italian, Southwestern, European          NaN   \n",
       "4          Pizza, Barbecue, Korean          NaN   \n",
       "\n",
       "                                                time  \\\n",
       "0                                                 []   \n",
       "1  [Sun:12:00 AM - 11:59 PM, Mon:12:00 AM - 11:59...   \n",
       "2  [Sun:06:00 AM - 10:00 PM, Mon:06:00 AM - 10:00...   \n",
       "3  [Sun:06:00 AM - 10:00 PM, Mon:06:00 AM - 10:00...   \n",
       "4  [Sun:11:00 AM - 11:00 PM, Mon:11:00 AM - 10:00...   \n",
       "\n",
       "                                                 URL priceLow priceHigh  \\\n",
       "0  https://www.tripadvisor.com//Restaurant_Review...      NaN       NaN   \n",
       "1  https://www.tripadvisor.com//Restaurant_Review...      NaN       NaN   \n",
       "2  https://www.tripadvisor.com//Restaurant_Review...  ₩12,953   ₩38,860   \n",
       "3  https://www.tripadvisor.com//Restaurant_Review...   ₩3,886   ₩64,767   \n",
       "4  https://www.tripadvisor.com//Restaurant_Review...      NaN       NaN   \n",
       "\n",
       "                                             reviews  \\\n",
       "0  [Delicious food. Friendly staff and great musi...   \n",
       "1  [I came in for pizza because they look like th...   \n",
       "2  [We are very impressed by the excellent servic...   \n",
       "3  [Beautiful dinner and great service! All meals...   \n",
       "4  [Great service. Good price and good food. The ...   \n",
       "\n",
       "                                              adress rating  \n",
       "0  02 An Thượng 32 Bắc Mỹ Phú, Ngũ Hành Sơn, Da N...   5.0   \n",
       "1  124 Bạch Đằng, Hải Châu, Đà Nẵng, Da Nang Vietnam   5.0   \n",
       "2  99 Vo Nguyen Giap Street Ngu Hanh Son District...   5.0   \n",
       "3  20 Dong Da 7F New Orient Hotel, Thuan Phuoc Wa...   5.0   \n",
       "4  134 Phan Châu Trinh, Phước Ninh, Hải Châu, Đà ...   5.0   "
      ]
     },
     "execution_count": 51,
       "0                                  Cô Ba Phở Bò   \n",
       "1                      Cardi Pizzeria Bach Dang   \n",
       "2                    Bistecca Restaurant Danang   \n",
       "3  Ca Chuon Co Vietnamese - Seafood Restaurant.   \n",
       "4                           3 Big - Nướng & Lẩu   \n",
       "5                    Thìa Gỗ Restaurant Da Nang   \n",
       "6                                Cabanon Palace   \n",
       "7                      La Cabana - House of BBQ   \n",
       "8                             The Golden Dragon   \n",
       "9            The Gypsy Rooftop Restaurant & Bar   \n",
       "\n",
       "                          category  \\\n",
       "0       Seafood, Asian, Vietnamese   \n",
       "1   American, Steakhouse, Brew Pub   \n",
       "2  Italian, Southwestern, European   \n",
       "3       Cafe, International, Asian   \n",
       "4          Pizza, Barbecue, Korean   \n",
       "5  Vietnamese, Vegetarian Friendly   \n",
       "6  French, Mediterranean, European   \n",
       "7         Steakhouse, Grill, Diner   \n",
       "8    Chinese, International, Asian   \n",
       "9                    Bar, European   \n",
       "\n",
       "                                         description  \\\n",
       "0                                               None   \n",
       "1  Premium Steak & Pizza Certified Imported Steak...   \n",
       "2  Bistecca – Italian restaurant offering the ori...   \n",
       "3  Ca Chuon Co, ('flying fish') a modern stylish ...   \n",
       "4  3 BiG - Nướng & Lẩu Nhà hàng BBQ - Thịt nướng ...   \n",
       "5                                               None   \n",
       "6  Proud of the authentic flavour from French Riv...   \n",
       "7  La Cabana is a Cozy Argentinian Steakhouse in ...   \n",
       "8  Tease your taste bud with authentic Cantonese ...   \n",
       "9  THE GYPSY is perched on the rooftop of the sty...   \n",
       "\n",
       "                                                time  \\\n",
       "0  [Sun:10:00 AM - 10:00 PM, Mon:10:00 AM - 10:00...   \n",
       "1                                               None   \n",
       "2  [Sun:06:00 AM - 10:00 PM, Mon:06:00 AM - 10:00...   \n",
       "3  [Sun:06:00 AM - 10:00 PM, Mon:06:00 AM - 10:00...   \n",
       "4  [Sun:11:00 AM - 11:00 PM, Mon:11:00 AM - 10:00...   \n",
       "5  [Sun:10:00 AM - 10:00 PM, Mon:10:00 AM - 10:00...   \n",
       "6  [Mon:5:30 PM - 10:00 PM, Tue:5:30 PM - 10:00 P...   \n",
       "7  [Sun:4:00 PM - 11:00 PM, Mon:4:00 PM - 11:00 P...   \n",
       "8  [Sun:11:30 AM - 2:00 PM:5:30 PM - 9:30 PM, Mon...   \n",
       "9  [Sun:5:00 PM - 12:00 AM, Mon:5:00 PM - 12:00 A...   \n",
       "\n",
       "                                                 URL priceLow priceHigh  \\\n",
       "0  https://www.tripadvisor.com//Restaurant_Review...     None      None   \n",
       "1  https://www.tripadvisor.com//Restaurant_Review...     None      None   \n",
       "2  https://www.tripadvisor.com//Restaurant_Review...   ₩3,906   ₩65,104   \n",
       "3  https://www.tripadvisor.com//Restaurant_Review...  ₩13,021   ₩39,062   \n",
       "4  https://www.tripadvisor.com//Restaurant_Review...     None      None   \n",
       "5  https://www.tripadvisor.com//Restaurant_Review...   ₩2,135   ₩26,693   \n",
       "6  https://www.tripadvisor.com//Restaurant_Review...  ₩55,990  ₩130,208   \n",
       "7  https://www.tripadvisor.com//Restaurant_Review...   ₩9,115   ₩39,062   \n",
       "8  https://www.tripadvisor.com//Restaurant_Review...     None      None   \n",
       "9  https://www.tripadvisor.com//Restaurant_Review...  ₩16,016   ₩69,401   \n",
       "\n",
       "                                             reviews  \\\n",
       "0  [Nice view and environment! \\nFinally tasted t...   \n",
       "1  [Great vibes.amazing pizza. Steak a bit overco...   \n",
       "2  [This spot is one of the most beautiful restau...   \n",
       "3  [Great service great experience everything was...   \n",
       "4  [Great service. Good price and good food. The ...   \n",
       "5  [Delicious Vietnamese food for a good price an...   \n",
       "6  [Great city view and Nathan’s recommendations ...   \n",
       "7  [This restaurant served us the best steaks we ...   \n",
       "8  [Employee is inattentive. Very bad experiences...   \n",
       "9  [Oh wow I'm thrilled to have discovered this p...   \n",
       "\n",
       "                                              adress  rating  \\\n",
       "0  154 Bạch Đằng Hải Châu 1, Hai Chau, Da Nang 55...     5.0   \n",
       "1  124 Bạch Đằng, Hải Châu, Đà Nẵng, Da Nang Vietnam     5.0   \n",
       "2  20 Dong Da 7F New Orient Hotel, Thuan Phuoc Wa...     5.0   \n",
       "3  99 Vo Nguyen Giap Street Ngu Hanh Son District...     5.0   \n",
       "4  134 Phan Châu Trinh, Phước Ninh, Hải Châu, Đà ...     5.0   \n",
       "5   53 Phan Thuc Duyen, My An, Da Nang 50507 Vietnam     5.0   \n",
       "6  27-29 Loseby Street Cordial Hotel 21th Floor, ...     5.0   \n",
       "7  505 D. Tran Hung Dao An Hai Trung, Son Tra, Da...     5.0   \n",
       "8  2nd Floor, Grand Mercure Danang Hotel, Lot A1,...     5.0   \n",
       "9  20 Dong Da 10th floor, New Orient Hotel, Da Na...     5.0   \n",
       "\n",
       "                    TEL                                             images  \n",
       "0      +84 236 3996 268  [https://media-cdn.tripadvisor.com/media/photo...  \n",
       "1          +84989232315  [https://media-cdn.tripadvisor.com/media/photo...  \n",
       "2      +84 236 3828 828  [https://media-cdn.tripadvisor.com/media/photo...  \n",
       "3      +84 236 3919 999  [https://media-cdn.tripadvisor.com/media/photo...  \n",
       "4      +84 236 3569 000  [https://media-cdn.tripadvisor.com/media/photo...  \n",
       "5  Improve this listing  [https://media-cdn.tripadvisor.com/media/video...  \n",
       "6       +84 79 665 3020                                               None  \n",
       "7      +84 93 493 51 98  [https://media-cdn.tripadvisor.com/media/photo...  \n",
       "8      +84 236 3797 777  [https://media-cdn.tripadvisor.com/media/photo...  \n",
       "9       +84 774 460 753  [https://media-cdn.tripadvisor.com/media/photo...  "
      ]
     },
     "execution_count": 57,
     "metadata": {},
     "output_type": "execute_result"
    }
   ],
   "source": [
    "# set webdriver\n",
    "driver = setWebdriver()\n",
    "\n",
    "# create dataset\n",
    "dataset = createDataset()\n",
    "\n",
    "# set pages\n",
    "url = \"https://www.tripadvisor.com/Restaurants-g298085-Da_Nang.html\"\n",
    "# restraurant_pages = setRestaurantPages(url)\n",
    "\n",
    "# start crawling\n",
    "dataset = buildDataset(driver, dataset, restraurant_pages[:10])\n",
    "\n",
    "# save dataset\n",
    "dataset.to_csv('test.csv')\n",
    "print(f'Dataset build complete!\\n')\n",
    "dataset"
   ]
  },
  {
   "cell_type": "markdown",
   "metadata": {},
   "source": [
    "---\n",
    "### Partial test"
   ]
  },
  {
   "cell_type": "code",
   "execution_count": 16,
   "metadata": {},
   "outputs": [
    {
     "name": "stdout",
     "output_type": "stream",
     "text": [
      "Rating: 5.0 \n",
      "Rating: 5.0 \n"
     ]
    }
   ],
   "source": [
    "# rating\n",
    "\n",
    "url = \"https://www.tripadvisor.com//Restaurant_Review-g298085-d24082246-Reviews-3_Big_Nu_ng_L_u-Da_Nang.html\"\n",
    "response = requests.get(url, headers=headers)\n",
    "response.raise_for_status()\n",
    "html = response.text\n",
    "soup = BeautifulSoup(html, \"html.parser\")\n",
    "with open(\"output1.html\", \"w\") as file:\n",
    "    file.write(str(soup))   \n",
    "\n",
    "# rating\n",
    "rating = soup.find('span', class_=\"ZDEqb\").text;    print(f'Rating: {rating}')\n",
    "# rating = soup.select_one(\"#component_52 > div.hILIJ > div > div:nth-child(1) > div > div:nth-child(1) > div.QEQvp > span.ZDEqb\"); \n",
    "# rating = soup.find('div', class_=\"QEQvp\").text\n",
    "print(f'Rating: {rating}')"
   ]
  },
  {
   "cell_type": "code",
   "execution_count": 11,
   "metadata": {},
   "outputs": [
    {
     "name": "stdout",
     "output_type": "stream",
     "text": [
      "Total_reviews: 13\n",
      "Review pages: 1\n"
     ]
    },
    {
     "name": "stderr",
     "output_type": "stream",
     "text": [
      "Review crwaling...: 100%|██████████| 1/1 [00:00<00:00,  2.37it/s]"
     ]
    },
    {
     "name": "stdout",
     "output_type": "stream",
     "text": [
      "Reviews: 13\n"
     ]
    },
    {
     "name": "stderr",
     "output_type": "stream",
     "text": [
      "\n"
     ]
    }
   ],
   "source": [
    "# reviews, only english reviews\n",
    "\n",
    "url = \"https://www.tripadvisor.com//Restaurant_Review-g298085-d24082246-Reviews-3_Big_Nu_ng_L_u-Da_Nang.html\"\n",
    "response = requests.get(url, headers=headers)\n",
    "response.raise_for_status()\n",
    "html = response.text\n",
    "soup = BeautifulSoup(html, \"html.parser\")\n",
    "\n",
    "total_reviews = int(soup.find_all('span', class_=\"count\")[0].text[1:-1].replace(',', ''));    print(f'Total_reviews: {total_reviews}')\n",
    "review_pages = total_reviews//15 if total_reviews%15 == 0 else total_reviews//15 + 1;    print(f'Review pages: {review_pages}')\n",
    "review_list = []\n",
    "for i in tqdm(range(0, review_pages), desc='Review crwaling...'):\n",
    "    if i > 1:\n",
    "        url_list = url.split('-Reviews-')\n",
    "        current_url = url_list[0] + f'-Reviews-or{15*i}-' + url_list[1]\n",
    "        # print(f'current_url: {current_url}')\n",
    "        response = requests.get(current_url, headers=headers)\n",
    "        response.raise_for_status()\n",
    "        html = response.text\n",
    "        soup = BeautifulSoup(html, \"html.parser\") \n",
    "\n",
    "    reviews = soup.find_all('p', class_=\"partial_entry\");\n",
    "    for review in reviews:\n",
    "        review_list.append(review.text)\n",
    "    #     print(review.text)\n",
    "    # print(f'Reviews: {len(review_list)}')\n",
    "\n",
    "    time.sleep(rd.uniform(0.1, 0.5))\n",
    "print(f'Reviews: {len(review_list)}')"
   ]
  },
  {
   "cell_type": "code",
   "execution_count": 13,
   "metadata": {},
   "outputs": [
    {
     "name": "stderr",
     "output_type": "stream",
     "text": [
      "C:\\Users\\user\\AppData\\Local\\Temp\\ipykernel_20692\\4230172117.py:11: DeprecationWarning: executable_path has been deprecated, please pass in a Service object\n",
      "  driver = webdriver.Chrome(ChromeDriverManager().install(), options=options)\n"
     ]
    },
    {
     "name": "stdout",
     "output_type": "stream",
     "text": [
      "<selenium.webdriver.remote.webelement.WebElement (session=\"256f007f9ab2cad63c076291897ee137\", element=\"67F080C407A4187949C41A7E8080B652_element_75\")>\n",
      "<selenium.webdriver.remote.webelement.WebElement (session=\"256f007f9ab2cad63c076291897ee137\", element=\"67F080C407A4187949C41A7E8080B652_element_76\")>\n",
      "<selenium.webdriver.remote.webelement.WebElement (session=\"256f007f9ab2cad63c076291897ee137\", element=\"67F080C407A4187949C41A7E8080B652_element_77\")>\n",
      "<selenium.webdriver.remote.webelement.WebElement (session=\"256f007f9ab2cad63c076291897ee137\", element=\"67F080C407A4187949C41A7E8080B652_element_78\")>\n",
      "<selenium.webdriver.remote.webelement.WebElement (session=\"256f007f9ab2cad63c076291897ee137\", element=\"67F080C407A4187949C41A7E8080B652_element_79\")>\n",
      "<selenium.webdriver.remote.webelement.WebElement (session=\"256f007f9ab2cad63c076291897ee137\", element=\"67F080C407A4187949C41A7E8080B652_element_80\")>\n",
      "<selenium.webdriver.remote.webelement.WebElement (session=\"256f007f9ab2cad63c076291897ee137\", element=\"67F080C407A4187949C41A7E8080B652_element_81\")>\n",
      "['Sun:10:00 AM - 10:00 PM', 'Mon:10:00 AM - 10:00 PM', 'Tue:10:00 AM - 10:00 PM', 'Wed:10:00 AM - 10:00 PM', 'Thu:10:00 AM - 10:00 PM', 'Fri:10:00 AM - 10:00 PM', 'Sat:10:00 AM - 10:00 PM']\n"
     ]
    }
   ],
   "source": [
    "# time test\n",
    "\n",
    "driver = setWebdriver()\n",
    "url = \"https://www.tripadvisor.com/Restaurant_Review-g15296807-d13810289-Reviews-Thia_G_Restaurant_Da_Nang-My_An_Da_Nang.html\"\n",
    "response = driver.get(url)\n",
    "\n",
    "try:\n",
    "    WebDriverWait(driver, 5).until(\n",
    "            EC.presence_of_element_located((By.CSS_SELECTOR, \"#component_50 > div > div:nth-child(3) > span.DsyBj.YTODE > div > span.mMkhr\")))\n",
    "    element = driver.find_element(By.CSS_SELECTOR, \"#component_50 > div > div:nth-child(3) > span.DsyBj.YTODE > div > span.mMkhr\")\n",
    "    time.sleep(1)\n",
    "    element.click() \n",
    "except:\n",
    "    times = np.NaN\n",
    "\n",
    "time_list = [] \n",
    "time_elements = driver.find_elements(By.CLASS_NAME, \"RiEuX.f\")\n",
    "for time_element in time_elements:\n",
    "    time_list.append(time_element.text.replace('\\n', ':'))\n",
    "    print(time_element)\n",
    "print(time_list)"
   ]
  },
  {
   "cell_type": "code",
   "execution_count": 42,
   "metadata": {},
   "outputs": [
    {
     "name": "stderr",
     "output_type": "stream",
     "text": [
      "C:\\Users\\user\\AppData\\Local\\Temp\\ipykernel_1260\\190076976.py:11: DeprecationWarning: executable_path has been deprecated, please pass in a Service object\n",
      "  driver = webdriver.Chrome(ChromeDriverManager().install(), options=options)\n"
     ]
    },
    {
     "name": "stdout",
     "output_type": "stream",
     "text": [
      "Description: nan\n"
     ]
    }
   ],
   "source": [
    "drvier = setWebdriver()\n",
    "\n",
    "url = \"https://www.tripadvisor.com/Restaurant_Review-g298085-d25271252-Reviews-D_c_M_c_Buffet-Da_Nang.html\"\n",
    "drvier.get(url)\n",
    "\n",
    "# description\n",
    "try:\n",
    "    WebDriverWait(driver, 10).until(\n",
    "            EC.presence_of_element_located((By.LINK_TEXT, \"View all details\")))\n",
    "    element = driver.find_element(By.LINK_TEXT, \"View all details\")\n",
    "    element.click()\n",
    "    time.sleep(3)\n",
    "    WebDriverWait(driver, 10).until(\n",
    "            EC.presence_of_element_located((By.CSS_SELECTOR, \"#BODY_BLOCK_JQUERY_REFLOW > div.VZmgo.D.X0.X1.Za > div > div.TocEc._Z.S2.H2._f > div > div > div.kwVln > div > div:nth-child(1) > div > div.jmnaM\")))\n",
    "    element = driver.find_element(By.CSS_SELECTOR, \"#BODY_BLOCK_JQUERY_REFLOW > div.VZmgo.D.X0.X1.Za > div > div.TocEc._Z.S2.H2._f > div > div > div.kwVln > div > div:nth-child(1) > div > div.jmnaM\")\n",
    "    description = element.text\n",
    "    webdriver.ActionChains(driver).send_keys(Keys.ESCAPE).perform()\n",
    "except:\n",
    "    description = np.NaN\n",
    "print(f'Description: {description}')\n",
    "\n",
    "# images\n",
    "\n",
    "images = []\n",
    "try:\n",
    "    WebDriverWait(driver, 10).until(\n",
    "            EC.presence_of_element_located((By.PARTIAL_LINK_TEXT, \"See all\")))\n",
    "    element = driver.find_element(By.PARTIAL_LINK_TEXT, \"See all\")\n",
    "    element.click()\n",
    "except:\n",
    "    pass\n",
    "# img_elements = soup.find_all('div', class_=\"albumGridItem\")\n",
    "# print(img_elements)\n",
    "# for i in range(10):\n",
    "#     rdNum = rd.randint(0, len(img_elements))\n",
    "#     img_src = img_elements[rdNum].find_all(\"img\")[\"src\"]\n",
    "#     images.append(img_src)\n"
   ]
  },
  {
   "cell_type": "code",
   "execution_count": null,
   "metadata": {},
   "outputs": [],
   "source": []
  }
 ],
 "metadata": {
  "kernelspec": {
   "display_name": "Python 3",
   "language": "python",
   "name": "python3"
  },
  "language_info": {
   "codemirror_mode": {
    "name": "ipython",
    "version": 3
   },
   "file_extension": ".py",
   "mimetype": "text/x-python",
   "name": "python",
   "nbconvert_exporter": "python",
   "pygments_lexer": "ipython3",
   "version": "3.9.13"
  }
 },
 "nbformat": 4,
 "nbformat_minor": 2
}
